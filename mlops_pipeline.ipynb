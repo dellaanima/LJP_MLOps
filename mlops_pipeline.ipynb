{
 "cells": [
  {
   "cell_type": "code",
   "execution_count": 1,
   "id": "7a6f9f34-ae97-435f-8392-c1c68c9a3a36",
   "metadata": {
    "tags": []
   },
   "outputs": [
    {
     "name": "stdout",
     "output_type": "stream",
     "text": [
      "===> Installing deps and restarting kernel. Please change 'install_needed = False' and run this code cell again.\n",
      "Looking in indexes: https://pypi.org/simple, https://pip.repos.neuron.amazonaws.com\n",
      "Collecting argparse\n",
      "  Using cached argparse-1.4.0-py2.py3-none-any.whl (23 kB)\n",
      "Requirement already satisfied: torch==1.13.1 in /home/ec2-user/anaconda3/envs/amazonei_pytorch_latest_p37/lib/python3.7/site-packages (1.13.1)\n",
      "Requirement already satisfied: torchvision==0.14.1 in /home/ec2-user/anaconda3/envs/amazonei_pytorch_latest_p37/lib/python3.7/site-packages (0.14.1)\n",
      "Requirement already satisfied: awscli==1.27.68 in /home/ec2-user/anaconda3/envs/amazonei_pytorch_latest_p37/lib/python3.7/site-packages (1.27.68)\n",
      "Requirement already satisfied: boto3==1.26.68 in /home/ec2-user/anaconda3/envs/amazonei_pytorch_latest_p37/lib/python3.7/site-packages (1.26.68)\n",
      "Requirement already satisfied: botocore==1.29.68 in /home/ec2-user/anaconda3/envs/amazonei_pytorch_latest_p37/lib/python3.7/site-packages (1.29.68)\n",
      "Requirement already satisfied: datasets==1.18.4 in /home/ec2-user/anaconda3/envs/amazonei_pytorch_latest_p37/lib/python3.7/site-packages (1.18.4)\n",
      "Requirement already satisfied: sagemaker==2.143.0 in /home/ec2-user/anaconda3/envs/amazonei_pytorch_latest_p37/lib/python3.7/site-packages (2.143.0)\n",
      "Requirement already satisfied: s3fs==0.4.2 in /home/ec2-user/anaconda3/envs/amazonei_pytorch_latest_p37/lib/python3.7/site-packages (0.4.2)\n",
      "Requirement already satisfied: s3transfer==0.6.0 in /home/ec2-user/anaconda3/envs/amazonei_pytorch_latest_p37/lib/python3.7/site-packages (0.6.0)\n",
      "Requirement already satisfied: transformers==4.27.4 in /home/ec2-user/anaconda3/envs/amazonei_pytorch_latest_p37/lib/python3.7/site-packages (4.27.4)\n",
      "Requirement already satisfied: nvidia-cublas-cu11==11.10.3.66 in /home/ec2-user/anaconda3/envs/amazonei_pytorch_latest_p37/lib/python3.7/site-packages (11.10.3.66)\n",
      "Requirement already satisfied: nvidia-cuda-nvrtc-cu11==11.7.99 in /home/ec2-user/anaconda3/envs/amazonei_pytorch_latest_p37/lib/python3.7/site-packages (11.7.99)\n",
      "Requirement already satisfied: nvidia-cuda-runtime-cu11==11.7.99 in /home/ec2-user/anaconda3/envs/amazonei_pytorch_latest_p37/lib/python3.7/site-packages (11.7.99)\n",
      "Requirement already satisfied: nvidia-cudnn-cu11==8.5.0.96 in /home/ec2-user/anaconda3/envs/amazonei_pytorch_latest_p37/lib/python3.7/site-packages (8.5.0.96)\n",
      "Requirement already satisfied: typing-extensions in /home/ec2-user/anaconda3/envs/amazonei_pytorch_latest_p37/lib/python3.7/site-packages (from torch==1.13.1) (4.5.0)\n",
      "Requirement already satisfied: requests in /home/ec2-user/anaconda3/envs/amazonei_pytorch_latest_p37/lib/python3.7/site-packages (from torchvision==0.14.1) (2.28.1)\n",
      "Requirement already satisfied: numpy in /home/ec2-user/anaconda3/envs/amazonei_pytorch_latest_p37/lib/python3.7/site-packages (from torchvision==0.14.1) (1.21.6)\n",
      "Requirement already satisfied: pillow!=8.3.*,>=5.3.0 in /home/ec2-user/anaconda3/envs/amazonei_pytorch_latest_p37/lib/python3.7/site-packages (from torchvision==0.14.1) (9.4.0)\n",
      "Requirement already satisfied: rsa<4.8,>=3.1.2 in /home/ec2-user/anaconda3/envs/amazonei_pytorch_latest_p37/lib/python3.7/site-packages (from awscli==1.27.68) (4.7.2)\n",
      "Requirement already satisfied: colorama<0.4.5,>=0.2.5 in /home/ec2-user/anaconda3/envs/amazonei_pytorch_latest_p37/lib/python3.7/site-packages (from awscli==1.27.68) (0.4.4)\n",
      "Requirement already satisfied: PyYAML<5.5,>=3.10 in /home/ec2-user/anaconda3/envs/amazonei_pytorch_latest_p37/lib/python3.7/site-packages (from awscli==1.27.68) (5.4.1)\n",
      "Requirement already satisfied: docutils<0.17,>=0.10 in /home/ec2-user/anaconda3/envs/amazonei_pytorch_latest_p37/lib/python3.7/site-packages (from awscli==1.27.68) (0.16)\n",
      "Requirement already satisfied: jmespath<2.0.0,>=0.7.1 in /home/ec2-user/anaconda3/envs/amazonei_pytorch_latest_p37/lib/python3.7/site-packages (from boto3==1.26.68) (1.0.1)\n",
      "Requirement already satisfied: urllib3<1.27,>=1.25.4 in /home/ec2-user/anaconda3/envs/amazonei_pytorch_latest_p37/lib/python3.7/site-packages (from botocore==1.29.68) (1.26.8)\n",
      "Requirement already satisfied: python-dateutil<3.0.0,>=2.1 in /home/ec2-user/anaconda3/envs/amazonei_pytorch_latest_p37/lib/python3.7/site-packages (from botocore==1.29.68) (2.8.2)\n",
      "Requirement already satisfied: pyarrow!=4.0.0,>=3.0.0 in /home/ec2-user/anaconda3/envs/amazonei_pytorch_latest_p37/lib/python3.7/site-packages (from datasets==1.18.4) (12.0.0)\n",
      "Requirement already satisfied: multiprocess in /home/ec2-user/anaconda3/envs/amazonei_pytorch_latest_p37/lib/python3.7/site-packages (from datasets==1.18.4) (0.70.14)\n",
      "Requirement already satisfied: packaging in /home/ec2-user/anaconda3/envs/amazonei_pytorch_latest_p37/lib/python3.7/site-packages (from datasets==1.18.4) (21.3)\n",
      "Requirement already satisfied: aiohttp in /home/ec2-user/anaconda3/envs/amazonei_pytorch_latest_p37/lib/python3.7/site-packages (from datasets==1.18.4) (3.8.3)\n",
      "Requirement already satisfied: xxhash in /home/ec2-user/anaconda3/envs/amazonei_pytorch_latest_p37/lib/python3.7/site-packages (from datasets==1.18.4) (3.2.0)\n",
      "Requirement already satisfied: huggingface-hub<1.0.0,>=0.1.0 in /home/ec2-user/anaconda3/envs/amazonei_pytorch_latest_p37/lib/python3.7/site-packages (from datasets==1.18.4) (0.11.1)\n",
      "Requirement already satisfied: tqdm>=4.62.1 in /home/ec2-user/anaconda3/envs/amazonei_pytorch_latest_p37/lib/python3.7/site-packages (from datasets==1.18.4) (4.64.1)\n",
      "Requirement already satisfied: dill in /home/ec2-user/anaconda3/envs/amazonei_pytorch_latest_p37/lib/python3.7/site-packages (from datasets==1.18.4) (0.3.6)\n",
      "Requirement already satisfied: pandas in /home/ec2-user/anaconda3/envs/amazonei_pytorch_latest_p37/lib/python3.7/site-packages (from datasets==1.18.4) (1.3.5)\n",
      "Requirement already satisfied: importlib-metadata in /home/ec2-user/anaconda3/envs/amazonei_pytorch_latest_p37/lib/python3.7/site-packages (from datasets==1.18.4) (4.11.4)\n",
      "Requirement already satisfied: responses<0.19 in /home/ec2-user/anaconda3/envs/amazonei_pytorch_latest_p37/lib/python3.7/site-packages (from datasets==1.18.4) (0.18.0)\n",
      "Requirement already satisfied: fsspec[http]>=2021.05.0 in /home/ec2-user/anaconda3/envs/amazonei_pytorch_latest_p37/lib/python3.7/site-packages (from datasets==1.18.4) (2022.11.0)\n",
      "Requirement already satisfied: google-pasta in /home/ec2-user/anaconda3/envs/amazonei_pytorch_latest_p37/lib/python3.7/site-packages (from sagemaker==2.143.0) (0.2.0)\n",
      "Requirement already satisfied: smdebug-rulesconfig==1.0.1 in /home/ec2-user/anaconda3/envs/amazonei_pytorch_latest_p37/lib/python3.7/site-packages (from sagemaker==2.143.0) (1.0.1)\n",
      "Requirement already satisfied: attrs<23,>=20.3.0 in /home/ec2-user/anaconda3/envs/amazonei_pytorch_latest_p37/lib/python3.7/site-packages (from sagemaker==2.143.0) (22.2.0)\n",
      "Requirement already satisfied: pathos in /home/ec2-user/anaconda3/envs/amazonei_pytorch_latest_p37/lib/python3.7/site-packages (from sagemaker==2.143.0) (0.3.0)\n",
      "Requirement already satisfied: schema in /home/ec2-user/anaconda3/envs/amazonei_pytorch_latest_p37/lib/python3.7/site-packages (from sagemaker==2.143.0) (0.7.5)\n",
      "Requirement already satisfied: jsonschema in /home/ec2-user/anaconda3/envs/amazonei_pytorch_latest_p37/lib/python3.7/site-packages (from sagemaker==2.143.0) (3.2.0)\n",
      "Requirement already satisfied: protobuf3-to-dict<1.0,>=0.1.5 in /home/ec2-user/anaconda3/envs/amazonei_pytorch_latest_p37/lib/python3.7/site-packages (from sagemaker==2.143.0) (0.1.5)\n",
      "Requirement already satisfied: protobuf<4.0,>=3.1 in /home/ec2-user/anaconda3/envs/amazonei_pytorch_latest_p37/lib/python3.7/site-packages (from sagemaker==2.143.0) (3.20.3)\n",
      "Requirement already satisfied: platformdirs in /home/ec2-user/anaconda3/envs/amazonei_pytorch_latest_p37/lib/python3.7/site-packages (from sagemaker==2.143.0) (3.2.0)\n",
      "Requirement already satisfied: filelock in /home/ec2-user/anaconda3/envs/amazonei_pytorch_latest_p37/lib/python3.7/site-packages (from transformers==4.27.4) (3.9.0)\n",
      "Requirement already satisfied: tokenizers!=0.11.3,<0.14,>=0.11.1 in /home/ec2-user/anaconda3/envs/amazonei_pytorch_latest_p37/lib/python3.7/site-packages (from transformers==4.27.4) (0.13.2)\n",
      "Requirement already satisfied: regex!=2019.12.17 in /home/ec2-user/anaconda3/envs/amazonei_pytorch_latest_p37/lib/python3.7/site-packages (from transformers==4.27.4) (2022.10.31)\n",
      "Requirement already satisfied: wheel in /home/ec2-user/anaconda3/envs/amazonei_pytorch_latest_p37/lib/python3.7/site-packages (from nvidia-cublas-cu11==11.10.3.66) (0.38.4)\n",
      "Requirement already satisfied: setuptools in /home/ec2-user/anaconda3/envs/amazonei_pytorch_latest_p37/lib/python3.7/site-packages (from nvidia-cublas-cu11==11.10.3.66) (65.6.3)\n",
      "Requirement already satisfied: async-timeout<5.0,>=4.0.0a3 in /home/ec2-user/anaconda3/envs/amazonei_pytorch_latest_p37/lib/python3.7/site-packages (from aiohttp->datasets==1.18.4) (4.0.2)\n",
      "Requirement already satisfied: frozenlist>=1.1.1 in /home/ec2-user/anaconda3/envs/amazonei_pytorch_latest_p37/lib/python3.7/site-packages (from aiohttp->datasets==1.18.4) (1.3.3)\n",
      "Requirement already satisfied: asynctest==0.13.0 in /home/ec2-user/anaconda3/envs/amazonei_pytorch_latest_p37/lib/python3.7/site-packages (from aiohttp->datasets==1.18.4) (0.13.0)\n",
      "Requirement already satisfied: yarl<2.0,>=1.0 in /home/ec2-user/anaconda3/envs/amazonei_pytorch_latest_p37/lib/python3.7/site-packages (from aiohttp->datasets==1.18.4) (1.8.2)\n",
      "Requirement already satisfied: aiosignal>=1.1.2 in /home/ec2-user/anaconda3/envs/amazonei_pytorch_latest_p37/lib/python3.7/site-packages (from aiohttp->datasets==1.18.4) (1.3.1)\n",
      "Requirement already satisfied: multidict<7.0,>=4.5 in /home/ec2-user/anaconda3/envs/amazonei_pytorch_latest_p37/lib/python3.7/site-packages (from aiohttp->datasets==1.18.4) (6.0.4)\n",
      "Requirement already satisfied: charset-normalizer<3.0,>=2.0 in /home/ec2-user/anaconda3/envs/amazonei_pytorch_latest_p37/lib/python3.7/site-packages (from aiohttp->datasets==1.18.4) (2.1.1)\n",
      "Requirement already satisfied: zipp>=0.5 in /home/ec2-user/anaconda3/envs/amazonei_pytorch_latest_p37/lib/python3.7/site-packages (from importlib-metadata->datasets==1.18.4) (3.11.0)\n",
      "Requirement already satisfied: pyparsing!=3.0.5,>=2.0.2 in /home/ec2-user/anaconda3/envs/amazonei_pytorch_latest_p37/lib/python3.7/site-packages (from packaging->datasets==1.18.4) (3.0.9)\n",
      "Requirement already satisfied: six in /home/ec2-user/anaconda3/envs/amazonei_pytorch_latest_p37/lib/python3.7/site-packages (from protobuf3-to-dict<1.0,>=0.1.5->sagemaker==2.143.0) (1.16.0)\n",
      "Requirement already satisfied: certifi>=2017.4.17 in /home/ec2-user/anaconda3/envs/amazonei_pytorch_latest_p37/lib/python3.7/site-packages (from requests->torchvision==0.14.1) (2022.12.7)\n",
      "Requirement already satisfied: idna<4,>=2.5 in /home/ec2-user/anaconda3/envs/amazonei_pytorch_latest_p37/lib/python3.7/site-packages (from requests->torchvision==0.14.1) (3.4)\n",
      "Requirement already satisfied: pyasn1>=0.1.3 in /home/ec2-user/anaconda3/envs/amazonei_pytorch_latest_p37/lib/python3.7/site-packages (from rsa<4.8,>=3.1.2->awscli==1.27.68) (0.4.8)\n",
      "Requirement already satisfied: pyrsistent>=0.14.0 in /home/ec2-user/anaconda3/envs/amazonei_pytorch_latest_p37/lib/python3.7/site-packages (from jsonschema->sagemaker==2.143.0) (0.18.1)\n",
      "Requirement already satisfied: pytz>=2017.3 in /home/ec2-user/anaconda3/envs/amazonei_pytorch_latest_p37/lib/python3.7/site-packages (from pandas->datasets==1.18.4) (2022.7)\n",
      "Requirement already satisfied: pox>=0.3.2 in /home/ec2-user/anaconda3/envs/amazonei_pytorch_latest_p37/lib/python3.7/site-packages (from pathos->sagemaker==2.143.0) (0.3.2)\n",
      "Requirement already satisfied: ppft>=1.7.6.6 in /home/ec2-user/anaconda3/envs/amazonei_pytorch_latest_p37/lib/python3.7/site-packages (from pathos->sagemaker==2.143.0) (1.7.6.6)\n",
      "Requirement already satisfied: contextlib2>=0.5.5 in /home/ec2-user/anaconda3/envs/amazonei_pytorch_latest_p37/lib/python3.7/site-packages (from schema->sagemaker==2.143.0) (21.6.0)\n",
      "Installing collected packages: argparse\n",
      "Successfully installed argparse-1.4.0\n"
     ]
    }
   ],
   "source": [
    "%load_ext autoreload\n",
    "%autoreload 2\n",
    "import sys\n",
    "import IPython\n",
    "\n",
    "install_needed = True\n",
    "#install_needed = False\n",
    "\n",
    "if install_needed:\n",
    "    print(\"===> Installing deps and restarting kernel. Please change 'install_needed = False' and run this code cell again.\")\n",
    "    !{sys.executable} -m pip install -U \"argparse\" \"torch==1.13.1\"  \"torchvision==0.14.1\"  \"awscli==1.27.68\" \"boto3==1.26.68\" \"botocore==1.29.68\" \"datasets==1.18.4\" \"sagemaker==2.143.0\" \"s3fs==0.4.2\" \"s3transfer==0.6.0\" \"transformers==4.27.4\" \"nvidia-cublas-cu11==11.10.3.66\" \"nvidia-cuda-nvrtc-cu11==11.7.99\" \"nvidia-cuda-runtime-cu11==11.7.99\" \"nvidia-cudnn-cu11==8.5.0.96\"\n",
    "    IPython.Application.instance().kernel.do_shutdown(True)"
   ]
  },
  {
   "cell_type": "code",
   "execution_count": 1,
   "id": "02ecfc36-46e9-4fb7-bf50-4b97cba5c781",
   "metadata": {
    "tags": []
   },
   "outputs": [
    {
     "name": "stdout",
     "output_type": "stream",
     "text": [
      "aiohttp==3.8.3\n",
      "aiosignal==1.3.1\n",
      "anyio @ file:///home/conda/feedstock_root/build_artifacts/anyio_1666191106763/work/dist\n",
      "argon2-cffi @ file:///home/conda/feedstock_root/build_artifacts/argon2-cffi_1640817743617/work\n",
      "argon2-cffi-bindings @ file:///home/conda/feedstock_root/build_artifacts/argon2-cffi-bindings_1649500320262/work\n",
      "async-timeout==4.0.2\n",
      "asynctest==0.13.0\n",
      "attrs @ file:///home/conda/feedstock_root/build_artifacts/attrs_1671632566681/work\n",
      "autovizwidget==0.20.3\n",
      "awscli==1.27.68\n",
      "Babel @ file:///home/conda/feedstock_root/build_artifacts/babel_1667688356751/work\n",
      "backcall @ file:///home/conda/feedstock_root/build_artifacts/backcall_1592338393461/work\n",
      "backports.functools-lru-cache @ file:///home/conda/feedstock_root/build_artifacts/backports.functools_lru_cache_1618230623929/work\n",
      "bcrypt==4.0.1\n",
      "beautifulsoup4 @ file:///home/conda/feedstock_root/build_artifacts/beautifulsoup4_1649463573192/work\n",
      "bleach @ file:///home/conda/feedstock_root/build_artifacts/bleach_1656355450470/work\n",
      "bokeh==2.4.3\n",
      "boto3==1.26.68\n",
      "botocore==1.29.68\n",
      "brotlipy @ file:///home/conda/feedstock_root/build_artifacts/brotlipy_1648854164153/work\n",
      "cached-property==1.5.2\n",
      "certifi==2022.12.7\n",
      "cffi @ file:///home/conda/feedstock_root/build_artifacts/cffi_1625835301720/work\n",
      "charset-normalizer @ file:///home/conda/feedstock_root/build_artifacts/charset-normalizer_1661170624537/work\n",
      "click==8.1.3\n",
      "cloudpickle==2.2.0\n",
      "colorama==0.4.4\n",
      "contextlib2==21.6.0\n",
      "coverage==7.0.4\n",
      "cryptography @ file:///home/conda/feedstock_root/build_artifacts/cryptography_1666563349571/work\n",
      "cycler==0.11.0\n",
      "dask==2022.2.0\n",
      "datasets==1.18.4\n",
      "debugpy @ file:///home/conda/feedstock_root/build_artifacts/debugpy_1660619049122/work\n",
      "decorator @ file:///home/conda/feedstock_root/build_artifacts/decorator_1641555617451/work\n",
      "defusedxml @ file:///home/conda/feedstock_root/build_artifacts/defusedxml_1615232257335/work\n",
      "dill==0.3.6\n",
      "distro==1.8.0\n",
      "docker==6.0.1\n",
      "docker-compose==1.29.2\n",
      "dockerpty==0.4.1\n",
      "docopt==0.6.2\n",
      "docutils==0.16\n",
      "dparse==0.6.2\n",
      "entrypoints @ file:///home/conda/feedstock_root/build_artifacts/entrypoints_1643888246732/work\n",
      "enum-compat==0.0.3\n",
      "environment-kernels==1.1.1\n",
      "fastjsonschema @ file:///home/conda/feedstock_root/build_artifacts/python-fastjsonschema_1663619548554/work/dist\n",
      "filelock==3.9.0\n",
      "Flask==2.2.2\n",
      "Flask-Cors==3.0.10\n",
      "flit_core @ file:///home/conda/feedstock_root/build_artifacts/flit-core_1667734568827/work/source/flit_core\n",
      "fonttools==4.38.0\n",
      "frozenlist==1.3.3\n",
      "fsspec==2022.11.0\n",
      "future==0.18.2\n",
      "google-pasta==0.2.0\n",
      "graphviz==0.13.2\n",
      "gssapi==1.8.2\n",
      "hdijupyterutils==0.20.3\n",
      "huggingface-hub==0.11.1\n",
      "idna @ file:///home/conda/feedstock_root/build_artifacts/idna_1663625384323/work\n",
      "imageio==2.24.0\n",
      "importlib-metadata @ file:///home/conda/feedstock_root/build_artifacts/importlib-metadata_1653252814274/work\n",
      "importlib-resources @ file:///home/conda/feedstock_root/build_artifacts/importlib_resources_1672681417544/work\n",
      "ipykernel @ file:///home/conda/feedstock_root/build_artifacts/ipykernel_1666723258080/work\n",
      "ipyparallel @ file:///home/conda/feedstock_root/build_artifacts/ipyparallel_1655821330492/work\n",
      "ipython @ file:///home/conda/feedstock_root/build_artifacts/ipython_1651240553635/work\n",
      "ipython-genutils==0.2.0\n",
      "ipywidgets==8.0.4\n",
      "itsdangerous==2.1.2\n",
      "jedi @ file:///home/conda/feedstock_root/build_artifacts/jedi_1669134318875/work\n",
      "Jinja2 @ file:///home/conda/feedstock_root/build_artifacts/jinja2_1654302431367/work\n",
      "jmespath==1.0.1\n",
      "joblib==1.2.0\n",
      "json5 @ file:///home/conda/feedstock_root/build_artifacts/json5_1600692310011/work\n",
      "jsonschema==3.2.0\n",
      "jupyter==1.0.0\n",
      "jupyter-console==6.4.4\n",
      "jupyter-server @ file:///home/conda/feedstock_root/build_artifacts/jupyter_server_1671591499479/work\n",
      "jupyter_client @ file:///home/conda/feedstock_root/build_artifacts/jupyter_client_1670253809910/work\n",
      "jupyter_core @ file:///home/conda/feedstock_root/build_artifacts/jupyter_core_1658332345782/work\n",
      "jupyterlab @ file:///home/conda/feedstock_root/build_artifacts/jupyterlab_1671458208109/work\n",
      "jupyterlab-pygments @ file:///home/conda/feedstock_root/build_artifacts/jupyterlab_pygments_1649936611996/work\n",
      "jupyterlab-widgets==3.0.5\n",
      "jupyterlab_server @ file:///home/conda/feedstock_root/build_artifacts/jupyterlab_server_1672755476373/work\n",
      "kiwisolver==1.4.4\n",
      "krb5==0.4.1\n",
      "llvmlite==0.39.1\n",
      "locket==1.0.0\n",
      "lxml==4.9.2\n",
      "MarkupSafe @ file:///home/conda/feedstock_root/build_artifacts/markupsafe_1648737551960/work\n",
      "matplotlib==3.5.3\n",
      "matplotlib-inline @ file:///home/conda/feedstock_root/build_artifacts/matplotlib-inline_1660814786464/work\n",
      "mistune @ file:///home/conda/feedstock_root/build_artifacts/mistune_1657892024508/work\n",
      "mock==5.0.1\n",
      "model-archiver==1.0.1\n",
      "multi-model-server==1.1.8\n",
      "multidict==6.0.4\n",
      "multiprocess==0.70.14\n",
      "nbclassic @ file:///home/conda/feedstock_root/build_artifacts/nbclassic_1667492839781/work\n",
      "nbclient @ file:///home/conda/feedstock_root/build_artifacts/nbclient_1665125402713/work\n",
      "nbconvert @ file:///home/conda/feedstock_root/build_artifacts/nbconvert-meta_1671523743066/work\n",
      "nbformat @ file:///home/conda/feedstock_root/build_artifacts/nbformat_1671474423563/work\n",
      "nest-asyncio @ file:///home/conda/feedstock_root/build_artifacts/nest-asyncio_1664684991461/work\n",
      "nose==1.3.7\n",
      "notebook @ file:///home/conda/feedstock_root/build_artifacts/notebook_1667565639349/work\n",
      "notebook_shim @ file:///home/conda/feedstock_root/build_artifacts/notebook-shim_1667478401171/work\n",
      "numba==0.56.4\n",
      "numpy==1.21.6\n",
      "nvidia-cublas-cu11==11.10.3.66\n",
      "nvidia-cuda-nvrtc-cu11==11.7.99\n",
      "nvidia-cuda-runtime-cu11==11.7.99\n",
      "nvidia-cudnn-cu11==8.5.0.96\n",
      "opencv-python==4.7.0.68\n",
      "packaging==21.3\n",
      "pandas==1.3.5\n",
      "pandocfilters @ file:///home/conda/feedstock_root/build_artifacts/pandocfilters_1631603243851/work\n",
      "paramiko==3.1.0\n",
      "parso @ file:///home/conda/feedstock_root/build_artifacts/parso_1638334955874/work\n",
      "partd==1.3.0\n",
      "pathos==0.3.0\n",
      "pexpect @ file:///home/conda/feedstock_root/build_artifacts/pexpect_1667297516076/work\n",
      "pickleshare @ file:///home/conda/feedstock_root/build_artifacts/pickleshare_1602536217715/work\n",
      "Pillow==9.4.0\n",
      "pkgutil_resolve_name @ file:///home/conda/feedstock_root/build_artifacts/pkgutil-resolve-name_1633981968097/work\n",
      "platformdirs==3.2.0\n",
      "plotly==5.11.0\n",
      "pox==0.3.2\n",
      "ppft==1.7.6.6\n",
      "prometheus-client @ file:///home/conda/feedstock_root/build_artifacts/prometheus_client_1665692535292/work\n",
      "prompt-toolkit @ file:///home/conda/feedstock_root/build_artifacts/prompt-toolkit_1670414775770/work\n",
      "protobuf==3.20.3\n",
      "protobuf3-to-dict==0.1.5\n",
      "psutil @ file:///home/conda/feedstock_root/build_artifacts/psutil_1666155398032/work\n",
      "psycopg2-binary==2.9.5\n",
      "ptyprocess @ file:///home/conda/feedstock_root/build_artifacts/ptyprocess_1609419310487/work/dist/ptyprocess-0.7.0-py2.py3-none-any.whl\n",
      "py4j==0.10.9.5\n",
      "pyarrow==12.0.0\n",
      "pyasn1==0.4.8\n",
      "pybind11==2.10.3\n",
      "pycparser @ file:///home/conda/feedstock_root/build_artifacts/pycparser_1636257122734/work\n",
      "pygal==2.4.0\n",
      "Pygments @ file:///home/conda/feedstock_root/build_artifacts/pygments_1672682006896/work\n",
      "pyinstrument==3.4.2\n",
      "pyinstrument-cext==0.2.4\n",
      "pykerberos==1.2.1\n",
      "PyNaCl==1.5.0\n",
      "pyOpenSSL @ file:///home/conda/feedstock_root/build_artifacts/pyopenssl_1672659226110/work\n",
      "pyparsing==3.0.9\n",
      "pyrsistent @ file:///home/conda/feedstock_root/build_artifacts/pyrsistent_1649013358450/work\n",
      "PySocks @ file:///home/conda/feedstock_root/build_artifacts/pysocks_1648857264451/work\n",
      "pyspark==3.3.0\n",
      "pyspnego==0.7.0\n",
      "python-dateutil @ file:///home/conda/feedstock_root/build_artifacts/python-dateutil_1626286286081/work\n",
      "python-dotenv==0.21.1\n",
      "pytz @ file:///home/conda/feedstock_root/build_artifacts/pytz_1671365381334/work\n",
      "PyYAML==5.4.1\n",
      "pyzmq @ file:///home/conda/feedstock_root/build_artifacts/pyzmq_1663830492333/work\n",
      "qtconsole==5.4.0\n",
      "QtPy==2.3.0\n",
      "regex==2022.10.31\n",
      "requests @ file:///home/conda/feedstock_root/build_artifacts/requests_1661872987712/work\n",
      "requests-kerberos==0.14.0\n",
      "responses==0.18.0\n",
      "rsa==4.7.2\n",
      "ruamel.yaml==0.17.21\n",
      "ruamel.yaml.clib==0.2.7\n",
      "s3fs==0.4.2\n",
      "s3transfer==0.6.0\n",
      "sagemaker==2.143.0\n",
      "sagemaker-pyspark==1.4.5\n",
      "schema==0.7.5\n",
      "scikit-learn==1.0.2\n",
      "scipy==1.7.3\n",
      "seaborn==0.12.2\n",
      "Send2Trash @ file:///home/conda/feedstock_root/build_artifacts/send2trash_1628511208346/work\n",
      "shap==0.41.0\n",
      "six @ file:///home/conda/feedstock_root/build_artifacts/six_1620240208055/work\n",
      "slicer==0.0.7\n",
      "smdebug==1.0.12\n",
      "smdebug-rulesconfig==1.0.1\n",
      "sniffio @ file:///home/conda/feedstock_root/build_artifacts/sniffio_1662051266223/work\n",
      "soupsieve @ file:///home/conda/feedstock_root/build_artifacts/soupsieve_1658207591808/work\n",
      "sparkmagic==0.15.0\n",
      "tenacity==8.1.0\n",
      "terminado @ file:///home/conda/feedstock_root/build_artifacts/terminado_1670253674810/work\n",
      "texttable==1.6.7\n",
      "threadpoolctl==3.1.0\n",
      "tinycss2 @ file:///home/conda/feedstock_root/build_artifacts/tinycss2_1666100256010/work\n",
      "tokenizers==0.13.2\n",
      "toml==0.10.2\n",
      "tomli @ file:///home/conda/feedstock_root/build_artifacts/tomli_1644342247877/work\n",
      "toolz==0.12.0\n",
      "torch==1.13.1\n",
      "torcheia @ file:///tmp/torcheia-1.0.0-cp37-cp37m-manylinux1_x86_64.whl\n",
      "torchvision==0.14.1\n",
      "tornado @ file:///home/conda/feedstock_root/build_artifacts/tornado_1656937818679/work\n",
      "tqdm @ file:///home/conda/feedstock_root/build_artifacts/tqdm_1662214488106/work\n",
      "traitlets @ file:///home/conda/feedstock_root/build_artifacts/traitlets_1673359992537/work\n",
      "transformers==4.27.4\n",
      "typing_extensions==4.5.0\n",
      "urllib3==1.26.8\n",
      "wcwidth @ file:///home/conda/feedstock_root/build_artifacts/wcwidth_1600965781394/work\n",
      "webencodings==0.5.1\n",
      "websocket-client==0.59.0\n",
      "Werkzeug==2.2.2\n",
      "widgetsnbextension==4.0.5\n",
      "xxhash==3.2.0\n",
      "yarl==1.8.2\n",
      "zipp @ file:///home/conda/feedstock_root/build_artifacts/zipp_1669453021653/work\n"
     ]
    }
   ],
   "source": [
    "!pip freeze"
   ]
  },
  {
   "cell_type": "markdown",
   "id": "0eb05b54",
   "metadata": {
    "id": "0eb05b54"
   },
   "source": [
    "# MLOps with SageMaker Pipelines\n",
    "\n",
    "\n",
    "## Prerequisites\n",
    "\n",
    "Reference: \n",
    "\n",
    "https://github.com/gonsoomoon-ml/SageMaker-Pipelines-Step-By-Step\n",
    "https://github.com/gonsoomoon-ml/SageMaker-Pipelines-Step-By-Step/tree/main/phase01\n",
    "https://github.com/gonsoomoon-ml/SageMaker-Pipelines-Step-By-Step/tree/main/phase02\n",
    "\n",
    "- SageMaker Pipelines SDK: https://docs.aws.amazon.com/sagemaker/latest/dg/pipelines-sdk.html\n",
    "- Caching Pipeline Steps: https://docs.aws.amazon.com/sagemaker/latest/dg/pipelines-caching.html\n",
    "- AWS AIML Blog: Use a SageMaker Pipeline Lambda step for lightweight model deployments: https://aws.amazon.com/de/blogs/machine-learning/use-a-sagemaker-pipeline-lambda-step-for-lightweight-model-deployments/\n",
    "\n",
    "Note:\n",
    "- 본 노트북을 실행하려면 `AmazonSageMakerFullAccess`와 `AmazonSageMakerPipelinesIntegrations` policy를 추가"
   ]
  },
  {
   "cell_type": "code",
   "execution_count": 2,
   "id": "47e800e8",
   "metadata": {
    "id": "47e800e8",
    "tags": []
   },
   "outputs": [],
   "source": [
    "import boto3\n",
    "import os\n",
    "import numpy as np\n",
    "import sagemaker\n",
    "import sys\n",
    "import time\n",
    "\n",
    "import sagemaker\n",
    "import sagemaker.huggingface\n",
    "from sagemaker.huggingface import HuggingFace, HuggingFaceModel\n",
    "\n",
    "from sagemaker.workflow.parameters import ParameterInteger, ParameterFloat, ParameterString\n",
    "\n",
    "from sagemaker.lambda_helper import Lambda\n",
    "\n",
    "from sagemaker.sklearn.processing import SKLearnProcessor\n",
    "from sagemaker.huggingface.processing import HuggingFaceProcessor\n",
    "\n",
    "from sagemaker.processing import ProcessingInput, ProcessingOutput\n",
    "from sagemaker.workflow.steps import CacheConfig, ProcessingStep\n",
    "\n",
    "from sagemaker.inputs import TrainingInput\n",
    "from sagemaker.workflow.steps import TrainingStep\n",
    "\n",
    "from sagemaker.processing import ScriptProcessor\n",
    "from sagemaker.workflow.properties import PropertyFile\n",
    "from sagemaker.workflow.step_collections import CreateModelStep, RegisterModel\n",
    "\n",
    "from sagemaker.workflow.conditions import ConditionLessThanOrEqualTo,ConditionGreaterThanOrEqualTo\n",
    "from sagemaker.workflow.condition_step import ConditionStep\n",
    "from sagemaker.workflow.functions import JsonGet\n",
    "\n",
    "from sagemaker.workflow.pipeline import Pipeline, PipelineExperimentConfig\n",
    "from sagemaker.workflow.execution_variables import ExecutionVariables"
   ]
  },
  {
   "cell_type": "code",
   "execution_count": 3,
   "id": "6c88b740",
   "metadata": {
    "id": "6c88b740",
    "tags": []
   },
   "outputs": [
    {
     "name": "stdout",
     "output_type": "stream",
     "text": [
      "sagemaker role arn: arn:aws:iam::353411055907:role/sagemaker-notebook-test1-SageMakerIamRole-3LWOV1Z5K6V0\n",
      "sagemaker bucket: sagemaker-us-east-1-353411055907\n",
      "sagemaker session region: us-east-1\n"
     ]
    }
   ],
   "source": [
    "sess = sagemaker.Session()\n",
    "region = sess.boto_region_name\n",
    "\n",
    "# sagemaker session bucket -> used for uploading data, models and logs\n",
    "# sagemaker will automatically create this bucket if it not exists\n",
    "sagemaker_session_bucket=None\n",
    "if sagemaker_session_bucket is None and sess is not None:\n",
    "    # set to default bucket if a bucket name is not given\n",
    "    sagemaker_session_bucket = sess.default_bucket()\n",
    "\n",
    "role = sagemaker.get_execution_role()\n",
    "sagemaker_session = sagemaker.Session(default_bucket=sagemaker_session_bucket)\n",
    "\n",
    "print(f\"sagemaker role arn: {role}\")\n",
    "print(f\"sagemaker bucket: {sagemaker_session.default_bucket()}\")\n",
    "print(f\"sagemaker session region: {sagemaker_session.boto_region_name}\")"
   ]
  },
  {
   "cell_type": "markdown",
   "id": "3cf3461c",
   "metadata": {
    "id": "3cf3461c"
   },
   "source": [
    "\n",
    "<br>\n",
    "\n",
    "## 1. Defining the Pipeline\n",
    "---\n",
    "\n",
    "### 1.1. Pipeline parameters\n",
    "\n",
    "References: \n",
    "- 개발자 가이드: https://docs.aws.amazon.com/sagemaker/latest/dg/build-and-manage-parameters.html"
   ]
  },
  {
   "cell_type": "code",
   "execution_count": 4,
   "id": "1696421d",
   "metadata": {
    "id": "1696421d",
    "tags": []
   },
   "outputs": [],
   "source": [
    "# S3 prefix where every assets will be stored\n",
    "s3_prefix = \"GP-LJP-mlops\"\n",
    "\n",
    "# s3 bucket used for storing assets and artifacts\n",
    "bucket = sagemaker_session.default_bucket()\n",
    "\n",
    "# aws region used\n",
    "region = sagemaker_session.boto_region_name\n",
    "\n",
    "# base name prefix for sagemaker jobs (training, processing, inference)\n",
    "base_job_prefix = s3_prefix\n",
    "\n",
    "# Cache configuration for workflow\n",
    "cache_config = CacheConfig(enable_caching=True, expire_after=\"7d\")\n",
    "\n",
    "# package versions\n",
    "transformers_version = '4.17.0'\n",
    "pytorch_version = '1.10.2'\n",
    "py_version = \"py38\"\n",
    "\n",
    "model_id_ = \"lawcompany/KLAID_LJP_base\"\n",
    "tokenizer_id_ = \"lawcompany/KLAID_LJP_base\"\n",
    "dataset_name_ = \"lawcompany/KLAID\"\n",
    "\n",
    "model_id = ParameterString(name=\"ModelId\", default_value=model_id_)\n",
    "tokenizer_id = ParameterString(name=\"TokenizerId\", default_value=tokenizer_id_)\n",
    "dataset_name = ParameterString(name=\"DatasetName\", default_value=dataset_name_)"
   ]
  },
  {
   "cell_type": "markdown",
   "id": "31677317",
   "metadata": {
    "id": "31677317"
   },
   "source": [
    "### 1.2. Processing Step\n",
    "\n",
    "빌트인 `SKLearnProcessor`를 통해 전처리 스텝을 정의합니다. \n",
    "\n",
    "References: \n",
    "- AWS AIML Blog: https://aws.amazon.com/ko/blogs/machine-learning/use-deep-learning-frameworks-natively-in-amazon-sagemaker-processing/\n",
    "- 개발자 가이드: https://docs.aws.amazon.com/ko_kr/sagemaker/latest/dg/build-and-manage-steps.html#step-type-processing"
   ]
  },
  {
   "cell_type": "code",
   "execution_count": 5,
   "id": "ae10defb",
   "metadata": {
    "id": "ae10defb",
    "tags": []
   },
   "outputs": [],
   "source": [
    "processing_instance_type = ParameterString(name=\"ProcessingInstanceType\", default_value=\"ml.m5.xlarge\")\n",
    "processing_instance_count = ParameterInteger(name=\"ProcessingInstanceCount\", default_value=1)\n",
    "processing_script = ParameterString(name=\"ProcessingScript\", default_value=\"./src/processing_sklearn.py\")"
   ]
  },
  {
   "cell_type": "code",
   "execution_count": 6,
   "id": "76708670",
   "metadata": {
    "id": "76708670",
    "tags": []
   },
   "outputs": [],
   "source": [
    "processing_output_destination = f\"s3://{bucket}/{s3_prefix}/data\"\n",
    "\n",
    "sklearn_processor = SKLearnProcessor(\n",
    "    instance_type=\"ml.m5.xlarge\", \n",
    "    instance_count=processing_instance_count,\n",
    "    framework_version=\"1.0-1\",    \n",
    "    base_job_name=base_job_prefix + \"-preprocessing\",\n",
    "    sagemaker_session=sagemaker_session,    \n",
    "    role=role\n",
    ")\n",
    "\n",
    "step_process = ProcessingStep(\n",
    "    name=\"ProcessDataForTraining\",\n",
    "    #cache_config=cache_config,\n",
    "    processor=sklearn_processor,\n",
    "    job_arguments=[\"--model_id\", model_id_,\n",
    "                   \"--tokenizer_id\", tokenizer_id_,\n",
    "                   \"--dataset_name\", dataset_name_,\n",
    "                   \"--transformers_version\", transformers_version,\n",
    "                   \"--pytorch_version\", pytorch_version\n",
    "                  ],\n",
    "    outputs=[\n",
    "        ProcessingOutput(\n",
    "            output_name=\"train\",\n",
    "            destination=f\"{processing_output_destination}/train\",\n",
    "            source=\"/opt/ml/processing/train\",\n",
    "        ),\n",
    "        ProcessingOutput(\n",
    "            output_name=\"validation\",\n",
    "            destination=f\"{processing_output_destination}/test\",\n",
    "            source=\"/opt/ml/processing/validation\",\n",
    "        ),\n",
    "        ProcessingOutput(\n",
    "            output_name=\"test\",\n",
    "            destination=f\"{processing_output_destination}/test\",\n",
    "            source=\"/opt/ml/processing/test\",\n",
    "        )        \n",
    "    ],\n",
    "    code=\"./src/processing_sklearn.py\"\n",
    ")"
   ]
  },
  {
   "cell_type": "markdown",
   "id": "e008ef40",
   "metadata": {
    "id": "e008ef40"
   },
   "source": [
    "### 1.3. Model Training Step\n",
    "\n",
    "이전 랩에서 진행한 훈련 스크립트를 그대로 활용하여 훈련 스텝을 정의합니다. SageMaker Pipelines에 적용하기 위해 워크플로 파라메터(`ParameterInteger, ParameterFloat, ParameterString`)도 같이 정의합니다.\n",
    "\n",
    "훈련, 검증 및 테스트 데이터에 대한 S3 경로는 이전 랩처럼 수동으로 지정하는 것이 아니라 체인으로 연결되는 개념이기에, 아래 예시처럼 전처리 스텝 결괏값(`step_process`)의 프로퍼티(`properties`)를 참조하여 지정해야 합니다.\n",
    "```python\n",
    "\"train\": TrainingInput(\n",
    "    s3_data=step_process.properties.ProcessingOutputConfig.Outputs[\"train\"].S3Output.S3Uri\n",
    ")\n",
    "```"
   ]
  },
  {
   "cell_type": "markdown",
   "id": "34221b76",
   "metadata": {
    "id": "34221b76"
   },
   "source": [
    "#### Training Parameter"
   ]
  },
  {
   "cell_type": "code",
   "execution_count": 7,
   "id": "a7867b16",
   "metadata": {
    "id": "a7867b16",
    "tags": []
   },
   "outputs": [],
   "source": [
    "# training step parameters\n",
    "training_entry_point = ParameterString(name=\"TrainingEntryPoint\", default_value=\"train.py\")\n",
    "training_source_dir = ParameterString(name=\"TrainingSourceDir\", default_value=\"./src\")\n",
    "training_instance_type = ParameterString(name=\"TrainingInstanceType\", default_value=\"ml.p3.8xlarge\")\n",
    "training_instance_count = ParameterInteger(name=\"TrainingInstanceCount\", default_value=1)\n",
    "\n",
    "# hyperparameters, which are passed into the training job\n",
    "n_gpus = ParameterString(name=\"NumGPUs\", default_value=\"1\")\n",
    "epochs = ParameterString(name=\"Epochs\", default_value=\"1\")\n",
    "seed = ParameterString(name=\"Seed\", default_value=\"42\")\n",
    "train_batch_size = ParameterString(name=\"TrainBatchSize\", default_value=\"1\")\n",
    "eval_batch_size = ParameterString(name=\"EvalBatchSize\", default_value=\"2\")           \n",
    "learning_rate = ParameterString(name=\"LearningRate\", default_value=\"5e-5\") \n",
    "\n",
    "model_id = ParameterString(name=\"ModelId\", default_value=model_id_)\n",
    "tokenizer_id = ParameterString(name=\"TokenizerId\", default_value=tokenizer_id_)\n",
    "dataset_name = ParameterString(name=\"DatasetName\", default_value=dataset_name_)"
   ]
  },
  {
   "cell_type": "code",
   "execution_count": 8,
   "id": "7c19a3c4",
   "metadata": {
    "id": "7c19a3c4",
    "tags": []
   },
   "outputs": [],
   "source": [
    "hyperparameters = {\n",
    "    'n_gpus': n_gpus,                       # number of GPUs per instance\n",
    "    'epochs': epochs,                       # number of training epochs\n",
    "    'seed': seed,                           # seed\n",
    "    'train_batch_size': train_batch_size,   # batch size for training\n",
    "    'eval_batch_size': eval_batch_size,     # batch size for evaluation\n",
    "    'warmup_steps': 0,                      # warmup steps\n",
    "    'learning_rate': learning_rate,         # learning rate used during training\n",
    "    'tokenizer_id': model_id,               # pre-trained tokenizer\n",
    "    'model_id': tokenizer_id                # pre-trained model\n",
    "} \n",
    "\n",
    "chkpt_s3_path = f's3://{bucket}/{s3_prefix}/processing/checkpoints'"
   ]
  },
  {
   "cell_type": "code",
   "execution_count": 9,
   "id": "e654d8cd",
   "metadata": {
    "id": "e654d8cd",
    "tags": []
   },
   "outputs": [],
   "source": [
    "huggingface_estimator = HuggingFace(\n",
    "    entry_point=\"train.py\",\n",
    "    source_dir=\"./src\",\n",
    "    base_job_name=base_job_prefix + \"-training\",\n",
    "    instance_type=\"ml.p3.8xlarge\",\n",
    "    instance_count=training_instance_count,\n",
    "    role=role,\n",
    "    transformers_version=transformers_version,\n",
    "    pytorch_version=pytorch_version,\n",
    "    py_version=py_version,\n",
    "    hyperparameters=hyperparameters,\n",
    "    sagemaker_session=sagemaker_session,    \n",
    "    disable_profiler=True,\n",
    "    debugger_hook_config=False,\n",
    "    checkpoint_s3_uri=chkpt_s3_path,\n",
    "    checkpoint_local_path='/opt/ml/checkpoints'\n",
    ")\n",
    "\n",
    "step_train = TrainingStep(\n",
    "    name=\"TrainModel\",\n",
    "    estimator=huggingface_estimator,\n",
    "    inputs={\n",
    "        \"train\": TrainingInput(\n",
    "            s3_data=step_process.properties.ProcessingOutputConfig.Outputs[\n",
    "                \"train\"\n",
    "            ].S3Output.S3Uri\n",
    "        ),\n",
    "        \"test\": TrainingInput(\n",
    "            s3_data=step_process.properties.ProcessingOutputConfig.Outputs[\n",
    "                \"test\"\n",
    "            ].S3Output.S3Uri\n",
    "        ),\n",
    "    },\n",
    "    cache_config=cache_config,\n",
    ")"
   ]
  },
  {
   "cell_type": "markdown",
   "id": "d2609fee",
   "metadata": {
    "id": "d2609fee"
   },
   "source": [
    "### 1.4. Model evaluation Step\n",
    "\n",
    "훈련된 모델의 성능을 평가하기 위해 추가 `ProcessingStep`을 정의합니다. 평가 결과에 따라 모델이 생성, 등록 및 배포되거나 파이프라인이 중단됩니다.\n",
    "평가 결과는 `PropertyFile`에 복사되며, 이는 이후 `ConditionStep`에서 사용됩니다."
   ]
  },
  {
   "cell_type": "markdown",
   "id": "90ab2765",
   "metadata": {
    "id": "90ab2765"
   },
   "source": [
    "#### Evaluation Parameter"
   ]
  },
  {
   "cell_type": "code",
   "execution_count": 10,
   "id": "703b47a7",
   "metadata": {
    "id": "703b47a7",
    "tags": []
   },
   "outputs": [],
   "source": [
    "evaluation_script = ParameterString(name=\"EvaluationScript\", default_value=\"./src/evaluate.py\")\n",
    "evaluation_instance_type = ParameterString(name=\"EvaluationInstanceType\", default_value=\"ml.m5.xlarge\")\n",
    "evaluation_instance_count = ParameterInteger(name=\"EvaluationInstanceCount\", default_value=1)"
   ]
  },
  {
   "cell_type": "markdown",
   "id": "bd5d0b36",
   "metadata": {
    "id": "bd5d0b36"
   },
   "source": [
    "#### Evaluator"
   ]
  },
  {
   "cell_type": "code",
   "execution_count": 11,
   "id": "ec940dec",
   "metadata": {
    "id": "ec940dec",
    "tags": []
   },
   "outputs": [
    {
     "name": "stdout",
     "output_type": "stream",
     "text": [
      "\u001b[34mimport\u001b[39;49;00m \u001b[04m\u001b[36msubprocess\u001b[39;49;00m\u001b[37m\u001b[39;49;00m\n",
      "\u001b[34mimport\u001b[39;49;00m \u001b[04m\u001b[36msys\u001b[39;49;00m\u001b[37m\u001b[39;49;00m\n",
      "\u001b[34mimport\u001b[39;49;00m \u001b[04m\u001b[36mjson\u001b[39;49;00m\u001b[37m\u001b[39;49;00m\n",
      "\u001b[34mimport\u001b[39;49;00m \u001b[04m\u001b[36mlogging\u001b[39;49;00m\u001b[37m\u001b[39;49;00m\n",
      "\u001b[34mimport\u001b[39;49;00m \u001b[04m\u001b[36mpathlib\u001b[39;49;00m\u001b[37m\u001b[39;49;00m\n",
      "\u001b[34mimport\u001b[39;49;00m \u001b[04m\u001b[36mtarfile\u001b[39;49;00m\u001b[37m\u001b[39;49;00m\n",
      "\u001b[34mimport\u001b[39;49;00m \u001b[04m\u001b[36mos\u001b[39;49;00m\u001b[37m\u001b[39;49;00m\n",
      "\u001b[37m\u001b[39;49;00m\n",
      "\u001b[34mimport\u001b[39;49;00m \u001b[04m\u001b[36mnumpy\u001b[39;49;00m \u001b[34mas\u001b[39;49;00m \u001b[04m\u001b[36mnp\u001b[39;49;00m\u001b[37m\u001b[39;49;00m\n",
      "\u001b[34mimport\u001b[39;49;00m \u001b[04m\u001b[36mpandas\u001b[39;49;00m \u001b[34mas\u001b[39;49;00m \u001b[04m\u001b[36mpd\u001b[39;49;00m\u001b[37m\u001b[39;49;00m\n",
      "\u001b[37m\u001b[39;49;00m\n",
      "\u001b[37m\u001b[39;49;00m\n",
      "logger = logging.getLogger()\u001b[37m\u001b[39;49;00m\n",
      "logger.setLevel(logging.INFO)\u001b[37m\u001b[39;49;00m\n",
      "logger.addHandler(logging.StreamHandler())\u001b[37m\u001b[39;49;00m\n",
      "\u001b[37m\u001b[39;49;00m\n",
      "\u001b[34mif\u001b[39;49;00m \u001b[31m__name__\u001b[39;49;00m == \u001b[33m\"\u001b[39;49;00m\u001b[33m__main__\u001b[39;49;00m\u001b[33m\"\u001b[39;49;00m:\u001b[37m\u001b[39;49;00m\n",
      "    logger.debug(\u001b[33m\"\u001b[39;49;00m\u001b[33mStarting evaluation.\u001b[39;49;00m\u001b[33m\"\u001b[39;49;00m)\u001b[37m\u001b[39;49;00m\n",
      "    model_path = \u001b[33m\"\u001b[39;49;00m\u001b[33m/opt/ml/processing/model/model.tar.gz\u001b[39;49;00m\u001b[33m\"\u001b[39;49;00m\u001b[37m\u001b[39;49;00m\n",
      "    \u001b[34mwith\u001b[39;49;00m tarfile.open(model_path) \u001b[34mas\u001b[39;49;00m tar:\u001b[37m\u001b[39;49;00m\n",
      "        tar.extractall(path=\u001b[33m\"\u001b[39;49;00m\u001b[33m./hf_model\u001b[39;49;00m\u001b[33m\"\u001b[39;49;00m)\u001b[37m\u001b[39;49;00m\n",
      "\u001b[37m\u001b[39;49;00m\n",
      "    logger.debug(os.listdir(\u001b[33m\"\u001b[39;49;00m\u001b[33m./hf_model\u001b[39;49;00m\u001b[33m\"\u001b[39;49;00m))\u001b[37m\u001b[39;49;00m\n",
      "\u001b[37m\u001b[39;49;00m\n",
      "    \u001b[34mwith\u001b[39;49;00m \u001b[36mopen\u001b[39;49;00m(\u001b[33m\"\u001b[39;49;00m\u001b[33m./hf_model/evaluation.json\u001b[39;49;00m\u001b[33m\"\u001b[39;49;00m) \u001b[34mas\u001b[39;49;00m f:\u001b[37m\u001b[39;49;00m\n",
      "        eval_result = json.load(f)\u001b[37m\u001b[39;49;00m\n",
      "\u001b[37m\u001b[39;49;00m\n",
      "    logger.debug(eval_result)\u001b[37m\u001b[39;49;00m\n",
      "    output_dir = \u001b[33m\"\u001b[39;49;00m\u001b[33m/opt/ml/processing/evaluation\u001b[39;49;00m\u001b[33m\"\u001b[39;49;00m\u001b[37m\u001b[39;49;00m\n",
      "    pathlib.Path(output_dir).mkdir(parents=\u001b[34mTrue\u001b[39;49;00m, exist_ok=\u001b[34mTrue\u001b[39;49;00m)\u001b[37m\u001b[39;49;00m\n",
      "\u001b[37m\u001b[39;49;00m\n",
      "    evaluation_path = \u001b[33mf\u001b[39;49;00m\u001b[33m\"\u001b[39;49;00m\u001b[33m{\u001b[39;49;00moutput_dir\u001b[33m}\u001b[39;49;00m\u001b[33m/evaluation.json\u001b[39;49;00m\u001b[33m\"\u001b[39;49;00m\u001b[37m\u001b[39;49;00m\n",
      "    \u001b[34mwith\u001b[39;49;00m \u001b[36mopen\u001b[39;49;00m(evaluation_path, \u001b[33m\"\u001b[39;49;00m\u001b[33mw\u001b[39;49;00m\u001b[33m\"\u001b[39;49;00m) \u001b[34mas\u001b[39;49;00m f:\u001b[37m\u001b[39;49;00m\n",
      "        f.write(json.dumps(eval_result))\u001b[37m\u001b[39;49;00m\n"
     ]
    }
   ],
   "source": [
    "!pygmentize ./src/evaluate.py"
   ]
  },
  {
   "cell_type": "code",
   "execution_count": 12,
   "id": "874b539e",
   "metadata": {
    "id": "874b539e",
    "tags": []
   },
   "outputs": [],
   "source": [
    "script_eval = SKLearnProcessor(\n",
    "    framework_version=\"1.0-1\",\n",
    "    instance_type=\"ml.m5.xlarge\",\n",
    "    instance_count=evaluation_instance_count,\n",
    "    base_job_name=base_job_prefix + \"-evaluation\",\n",
    "    sagemaker_session=sagemaker_session,\n",
    "    role=role,\n",
    ")\n",
    "\n",
    "evaluation_report = PropertyFile(\n",
    "    name=\"EvaluationReport\",\n",
    "    output_name=\"evaluation\",\n",
    "    path=\"evaluation.json\",\n",
    ")\n",
    "\n",
    "step_eval = ProcessingStep(\n",
    "    name=\"EvalLoss\",\n",
    "    processor=script_eval,\n",
    "    inputs=[\n",
    "        ProcessingInput(\n",
    "            source=step_train.properties.ModelArtifacts.S3ModelArtifacts,\n",
    "            destination=\"/opt/ml/processing/model\",\n",
    "        )\n",
    "    ],\n",
    "    outputs=[\n",
    "        ProcessingOutput(\n",
    "            output_name=\"evaluation\",\n",
    "            source=\"/opt/ml/processing/evaluation\",\n",
    "            destination=f\"s3://{bucket}/{s3_prefix}/evaluation_report\",\n",
    "        ),\n",
    "    ],\n",
    "    code=\"./src/evaluate.py\",\n",
    "    property_files=[evaluation_report],\n",
    "    cache_config=cache_config,\n",
    ")"
   ]
  },
  {
   "cell_type": "markdown",
   "id": "da6b7f5d",
   "metadata": {
    "id": "da6b7f5d"
   },
   "source": [
    "### 1.5. Register the model\n",
    "\n",
    "훈련된 모델은 모델 패키지 그룹(Model Package Group)의 모델 레지스트리(Model Registry)에 등록됩니다. 모델 레지스트리는 SageMaker Pipelines에서 소개된 개념으로, 기존 SageMaker 모델과 다르게 모델 버전 관리가 가능하며 승인 여부를 지정할 수 있습니다. 모델 승인은 `ConditionStep`의 조건을 만족할 때에만 가능하게 할 수 있습니다. (예: 정확도가 95% 이상인 경우에만 모델 배포)"
   ]
  },
  {
   "cell_type": "code",
   "execution_count": 13,
   "id": "e860717a",
   "metadata": {
    "id": "e860717a",
    "tags": []
   },
   "outputs": [],
   "source": [
    "model = HuggingFaceModel(\n",
    "    model_data=step_train.properties.ModelArtifacts.S3ModelArtifacts,\n",
    "    role=role,\n",
    "    transformers_version=transformers_version,\n",
    "    pytorch_version=pytorch_version,\n",
    "    py_version=py_version,\n",
    "    sagemaker_session=sagemaker_session,\n",
    ")\n",
    "model_package_group_name = \"LJPModelPackageGroup\"\n",
    "step_register = RegisterModel(\n",
    "    name=\"RegisterModel\",\n",
    "    model=model,\n",
    "    content_types=[\"application/json\"],\n",
    "    response_types=[\"application/json\"],\n",
    "    inference_instances=[\"ml.m5.xlarge\", \"ml.g4dn.xlarge\"],\n",
    "    transform_instances=[\"ml.m5.xlarge\", \"ml.g4dn.xlarge\"],\n",
    "    model_package_group_name=model_package_group_name,\n",
    "    approval_status=\"Approved\",\n",
    ")"
   ]
  },
  {
   "cell_type": "markdown",
   "id": "219b6810",
   "metadata": {
    "id": "219b6810"
   },
   "source": [
    "### 1.6. Model Deployment\n",
    "\n",
    "\n",
    "`LambdaStep`에서 파생된 커스텀 단계 `ModelDeployment`를 생성합니다. LambdaStep에서 정의한 Lambda 함수를 통해 호스팅 리얼타임 엔드포인트를 배포합니다."
   ]
  },
  {
   "cell_type": "code",
   "execution_count": 14,
   "id": "5aec1574",
   "metadata": {
    "id": "5aec1574",
    "tags": []
   },
   "outputs": [
    {
     "name": "stdout",
     "output_type": "stream",
     "text": [
      "\u001b[34mimport\u001b[39;49;00m \u001b[04m\u001b[36mtime\u001b[39;49;00m\u001b[37m\u001b[39;49;00m\n",
      "\u001b[34mimport\u001b[39;49;00m \u001b[04m\u001b[36mjson\u001b[39;49;00m\u001b[37m\u001b[39;49;00m\n",
      "\u001b[34mimport\u001b[39;49;00m \u001b[04m\u001b[36mboto3\u001b[39;49;00m\u001b[37m\u001b[39;49;00m\n",
      "\u001b[34mimport\u001b[39;49;00m \u001b[04m\u001b[36mos\u001b[39;49;00m\u001b[37m\u001b[39;49;00m\n",
      "\u001b[34mfrom\u001b[39;49;00m \u001b[04m\u001b[36msagemaker\u001b[39;49;00m\u001b[04m\u001b[36m.\u001b[39;49;00m\u001b[04m\u001b[36mworkflow\u001b[39;49;00m\u001b[04m\u001b[36m.\u001b[39;49;00m\u001b[04m\u001b[36mstep_collections\u001b[39;49;00m \u001b[34mimport\u001b[39;49;00m StepCollection\u001b[37m\u001b[39;49;00m\n",
      "\u001b[34mfrom\u001b[39;49;00m \u001b[04m\u001b[36msagemaker\u001b[39;49;00m\u001b[04m\u001b[36m.\u001b[39;49;00m\u001b[04m\u001b[36mworkflow\u001b[39;49;00m\u001b[04m\u001b[36m.\u001b[39;49;00m\u001b[04m\u001b[36m_utils\u001b[39;49;00m \u001b[34mimport\u001b[39;49;00m _RegisterModelStep\u001b[37m\u001b[39;49;00m\n",
      "\u001b[34mfrom\u001b[39;49;00m \u001b[04m\u001b[36msagemaker\u001b[39;49;00m\u001b[04m\u001b[36m.\u001b[39;49;00m\u001b[04m\u001b[36mlambda_helper\u001b[39;49;00m \u001b[34mimport\u001b[39;49;00m Lambda\u001b[37m\u001b[39;49;00m\n",
      "\u001b[34mfrom\u001b[39;49;00m \u001b[04m\u001b[36msagemaker\u001b[39;49;00m\u001b[04m\u001b[36m.\u001b[39;49;00m\u001b[04m\u001b[36mworkflow\u001b[39;49;00m\u001b[04m\u001b[36m.\u001b[39;49;00m\u001b[04m\u001b[36mlambda_step\u001b[39;49;00m \u001b[34mimport\u001b[39;49;00m (\u001b[37m\u001b[39;49;00m\n",
      "    LambdaStep,\u001b[37m\u001b[39;49;00m\n",
      "    LambdaOutput,\u001b[37m\u001b[39;49;00m\n",
      "    LambdaOutputTypeEnum,\u001b[37m\u001b[39;49;00m\n",
      ")\u001b[37m\u001b[39;49;00m\n",
      "\u001b[37m\u001b[39;49;00m\n",
      "\u001b[37m\u001b[39;49;00m\n",
      "\u001b[34mclass\u001b[39;49;00m \u001b[04m\u001b[32mModelDeployment\u001b[39;49;00m(StepCollection):\u001b[37m\u001b[39;49;00m\n",
      "\u001b[37m    \u001b[39;49;00m\u001b[33m\"\"\"custom step to deploy model as SageMaker Endpoint\"\"\"\u001b[39;49;00m\u001b[37m\u001b[39;49;00m\n",
      "\u001b[37m\u001b[39;49;00m\n",
      "    \u001b[34mdef\u001b[39;49;00m \u001b[32m__init__\u001b[39;49;00m(\u001b[37m\u001b[39;49;00m\n",
      "        \u001b[36mself\u001b[39;49;00m,\u001b[37m\u001b[39;49;00m\n",
      "        model_name: \u001b[36mstr\u001b[39;49;00m,\u001b[37m\u001b[39;49;00m\n",
      "        registered_model: _RegisterModelStep,\u001b[37m\u001b[39;49;00m\n",
      "        endpoint_instance_type,\u001b[37m\u001b[39;49;00m\n",
      "        sagemaker_endpoint_role: \u001b[36mstr\u001b[39;49;00m,\u001b[37m\u001b[39;49;00m\n",
      "        autoscaling_policy: \u001b[36mdict\u001b[39;49;00m = \u001b[34mNone\u001b[39;49;00m,\u001b[37m\u001b[39;49;00m\n",
      "    ):\u001b[37m\u001b[39;49;00m\n",
      "        \u001b[36mself\u001b[39;49;00m.name = \u001b[33m\"\u001b[39;49;00m\u001b[33msagemaker-pipelines-model-deployment\u001b[39;49;00m\u001b[33m\"\u001b[39;49;00m\u001b[37m\u001b[39;49;00m\n",
      "        \u001b[36mself\u001b[39;49;00m.model_package_arn = registered_model.properties.ModelPackageArn\u001b[37m\u001b[39;49;00m\n",
      "        \u001b[36mself\u001b[39;49;00m.lambda_role = \u001b[36mself\u001b[39;49;00m.create_lambda_role(\u001b[36mself\u001b[39;49;00m.name)\u001b[37m\u001b[39;49;00m\n",
      "        \u001b[37m#        Use the current time to define unique names for the resources created\u001b[39;49;00m\u001b[37m\u001b[39;49;00m\n",
      "        current_time = time.strftime(\u001b[33m\"\u001b[39;49;00m\u001b[33m%\u001b[39;49;00m\u001b[33mm-\u001b[39;49;00m\u001b[33m%d\u001b[39;49;00m\u001b[33m-\u001b[39;49;00m\u001b[33m%\u001b[39;49;00m\u001b[33mH-\u001b[39;49;00m\u001b[33m%\u001b[39;49;00m\u001b[33mM-\u001b[39;49;00m\u001b[33m%\u001b[39;49;00m\u001b[33mS\u001b[39;49;00m\u001b[33m\"\u001b[39;49;00m, time.localtime())\u001b[37m\u001b[39;49;00m\n",
      "\u001b[37m\u001b[39;49;00m\n",
      "        steps = []\u001b[37m\u001b[39;49;00m\n",
      "        lambda_file = os.path.join(os.path.dirname(os.path.abspath(\u001b[31m__file__\u001b[39;49;00m)), \u001b[33m\"\u001b[39;49;00m\u001b[33mdeploy_handler.py\u001b[39;49;00m\u001b[33m\"\u001b[39;49;00m)\u001b[37m\u001b[39;49;00m\n",
      "        \u001b[37m# Lambda helper class can be used to create the Lambda function\u001b[39;49;00m\u001b[37m\u001b[39;49;00m\n",
      "        \u001b[36mself\u001b[39;49;00m.func = Lambda(\u001b[37m\u001b[39;49;00m\n",
      "            function_name=\u001b[33mf\u001b[39;49;00m\u001b[33m\"\u001b[39;49;00m\u001b[33m{\u001b[39;49;00m\u001b[36mself\u001b[39;49;00m.name\u001b[33m}\u001b[39;49;00m\u001b[33m-\u001b[39;49;00m\u001b[33m{\u001b[39;49;00mcurrent_time\u001b[33m}\u001b[39;49;00m\u001b[33m\"\u001b[39;49;00m,\u001b[37m\u001b[39;49;00m\n",
      "            execution_role_arn=\u001b[36mself\u001b[39;49;00m.lambda_role,\u001b[37m\u001b[39;49;00m\n",
      "            script=lambda_file,\u001b[37m\u001b[39;49;00m\n",
      "            handler=\u001b[33m\"\u001b[39;49;00m\u001b[33mdeploy_handler.lambda_handler\u001b[39;49;00m\u001b[33m\"\u001b[39;49;00m,\u001b[37m\u001b[39;49;00m\n",
      "            timeout=\u001b[34m600\u001b[39;49;00m,\u001b[37m\u001b[39;49;00m\n",
      "            memory_size=\u001b[34m256\u001b[39;49;00m,\u001b[37m\u001b[39;49;00m\n",
      "        )\u001b[37m\u001b[39;49;00m\n",
      "\u001b[37m\u001b[39;49;00m\n",
      "        \u001b[37m# The dictionary retured by the Lambda function is captured by LambdaOutput, each key in the dictionary corresponds to a\u001b[39;49;00m\u001b[37m\u001b[39;49;00m\n",
      "        \u001b[37m# LambdaOutput\u001b[39;49;00m\u001b[37m\u001b[39;49;00m\n",
      "\u001b[37m\u001b[39;49;00m\n",
      "        output_param_1 = LambdaOutput(output_name=\u001b[33m\"\u001b[39;49;00m\u001b[33mstatusCode\u001b[39;49;00m\u001b[33m\"\u001b[39;49;00m, output_type=LambdaOutputTypeEnum.String)\u001b[37m\u001b[39;49;00m\n",
      "        output_param_2 = LambdaOutput(output_name=\u001b[33m\"\u001b[39;49;00m\u001b[33mbody\u001b[39;49;00m\u001b[33m\"\u001b[39;49;00m, output_type=LambdaOutputTypeEnum.String)\u001b[37m\u001b[39;49;00m\n",
      "        output_param_3 = LambdaOutput(output_name=\u001b[33m\"\u001b[39;49;00m\u001b[33mother_key\u001b[39;49;00m\u001b[33m\"\u001b[39;49;00m, output_type=LambdaOutputTypeEnum.String)\u001b[37m\u001b[39;49;00m\n",
      "\u001b[37m\u001b[39;49;00m\n",
      "        \u001b[37m# The inputs provided to the Lambda function can be retrieved via the `event` object within the `lambda_handler` function\u001b[39;49;00m\u001b[37m\u001b[39;49;00m\n",
      "        \u001b[37m# in the Lambda\u001b[39;49;00m\u001b[37m\u001b[39;49;00m\n",
      "        lambda_step = LambdaStep(\u001b[37m\u001b[39;49;00m\n",
      "            name=\u001b[33m\"\u001b[39;49;00m\u001b[33mModelDeployment\u001b[39;49;00m\u001b[33m\"\u001b[39;49;00m,\u001b[37m\u001b[39;49;00m\n",
      "            lambda_func=\u001b[36mself\u001b[39;49;00m.func,\u001b[37m\u001b[39;49;00m\n",
      "            inputs={\u001b[37m\u001b[39;49;00m\n",
      "                \u001b[33m\"\u001b[39;49;00m\u001b[33mmodel_name\u001b[39;49;00m\u001b[33m\"\u001b[39;49;00m: model_name + current_time,\u001b[37m\u001b[39;49;00m\n",
      "                \u001b[33m\"\u001b[39;49;00m\u001b[33mendpoint_config_name\u001b[39;49;00m\u001b[33m\"\u001b[39;49;00m: model_name + current_time,\u001b[37m\u001b[39;49;00m\n",
      "                \u001b[33m\"\u001b[39;49;00m\u001b[33mendpoint_name\u001b[39;49;00m\u001b[33m\"\u001b[39;49;00m: model_name,\u001b[37m\u001b[39;49;00m\n",
      "                \u001b[33m\"\u001b[39;49;00m\u001b[33mendpoint_instance_type\u001b[39;49;00m\u001b[33m\"\u001b[39;49;00m: endpoint_instance_type,\u001b[37m\u001b[39;49;00m\n",
      "                \u001b[33m\"\u001b[39;49;00m\u001b[33mmodel_package_arn\u001b[39;49;00m\u001b[33m\"\u001b[39;49;00m: \u001b[36mself\u001b[39;49;00m.model_package_arn,\u001b[37m\u001b[39;49;00m\n",
      "                \u001b[33m\"\u001b[39;49;00m\u001b[33mrole\u001b[39;49;00m\u001b[33m\"\u001b[39;49;00m: sagemaker_endpoint_role,\u001b[37m\u001b[39;49;00m\n",
      "            },\u001b[37m\u001b[39;49;00m\n",
      "            outputs=[output_param_1, output_param_2, output_param_3],\u001b[37m\u001b[39;49;00m\n",
      "        )\u001b[37m\u001b[39;49;00m\n",
      "        steps.append(lambda_step)\u001b[37m\u001b[39;49;00m\n",
      "        \u001b[36mself\u001b[39;49;00m.steps = steps\u001b[37m\u001b[39;49;00m\n",
      "\u001b[37m\u001b[39;49;00m\n",
      "    \u001b[34mdef\u001b[39;49;00m \u001b[32mcreate_lambda_role\u001b[39;49;00m(\u001b[36mself\u001b[39;49;00m, name):\u001b[37m\u001b[39;49;00m\n",
      "\u001b[37m        \u001b[39;49;00m\u001b[33m\"\"\"\u001b[39;49;00m\n",
      "\u001b[33m        Create a role for the Lambda function\u001b[39;49;00m\n",
      "\u001b[33m        \"\"\"\u001b[39;49;00m\u001b[37m\u001b[39;49;00m\n",
      "        role_name = \u001b[33mf\u001b[39;49;00m\u001b[33m\"\u001b[39;49;00m\u001b[33m{\u001b[39;49;00mname\u001b[33m}\u001b[39;49;00m\u001b[33m-role\u001b[39;49;00m\u001b[33m\"\u001b[39;49;00m\u001b[37m\u001b[39;49;00m\n",
      "        iam = boto3.client(\u001b[33m\"\u001b[39;49;00m\u001b[33miam\u001b[39;49;00m\u001b[33m\"\u001b[39;49;00m)\u001b[37m\u001b[39;49;00m\n",
      "        \u001b[34mtry\u001b[39;49;00m:\u001b[37m\u001b[39;49;00m\n",
      "            response = iam.create_role(\u001b[37m\u001b[39;49;00m\n",
      "                RoleName=role_name,\u001b[37m\u001b[39;49;00m\n",
      "                AssumeRolePolicyDocument=json.dumps(\u001b[37m\u001b[39;49;00m\n",
      "                    {\u001b[37m\u001b[39;49;00m\n",
      "                        \u001b[33m\"\u001b[39;49;00m\u001b[33mVersion\u001b[39;49;00m\u001b[33m\"\u001b[39;49;00m: \u001b[33m\"\u001b[39;49;00m\u001b[33m2012-10-17\u001b[39;49;00m\u001b[33m\"\u001b[39;49;00m,\u001b[37m\u001b[39;49;00m\n",
      "                        \u001b[33m\"\u001b[39;49;00m\u001b[33mStatement\u001b[39;49;00m\u001b[33m\"\u001b[39;49;00m: [\u001b[37m\u001b[39;49;00m\n",
      "                            {\u001b[37m\u001b[39;49;00m\n",
      "                                \u001b[33m\"\u001b[39;49;00m\u001b[33mEffect\u001b[39;49;00m\u001b[33m\"\u001b[39;49;00m: \u001b[33m\"\u001b[39;49;00m\u001b[33mAllow\u001b[39;49;00m\u001b[33m\"\u001b[39;49;00m,\u001b[37m\u001b[39;49;00m\n",
      "                                \u001b[33m\"\u001b[39;49;00m\u001b[33mPrincipal\u001b[39;49;00m\u001b[33m\"\u001b[39;49;00m: {\u001b[33m\"\u001b[39;49;00m\u001b[33mService\u001b[39;49;00m\u001b[33m\"\u001b[39;49;00m: \u001b[33m\"\u001b[39;49;00m\u001b[33mlambda.amazonaws.com\u001b[39;49;00m\u001b[33m\"\u001b[39;49;00m},\u001b[37m\u001b[39;49;00m\n",
      "                                \u001b[33m\"\u001b[39;49;00m\u001b[33mAction\u001b[39;49;00m\u001b[33m\"\u001b[39;49;00m: \u001b[33m\"\u001b[39;49;00m\u001b[33msts:AssumeRole\u001b[39;49;00m\u001b[33m\"\u001b[39;49;00m,\u001b[37m\u001b[39;49;00m\n",
      "                            }\u001b[37m\u001b[39;49;00m\n",
      "                        ],\u001b[37m\u001b[39;49;00m\n",
      "                    }\u001b[37m\u001b[39;49;00m\n",
      "                ),\u001b[37m\u001b[39;49;00m\n",
      "                Description=\u001b[33m\"\u001b[39;49;00m\u001b[33mRole for Lambda to call ECS Fargate task\u001b[39;49;00m\u001b[33m\"\u001b[39;49;00m,\u001b[37m\u001b[39;49;00m\n",
      "            )\u001b[37m\u001b[39;49;00m\n",
      "\u001b[37m\u001b[39;49;00m\n",
      "            role_arn = response[\u001b[33m\"\u001b[39;49;00m\u001b[33mRole\u001b[39;49;00m\u001b[33m\"\u001b[39;49;00m][\u001b[33m\"\u001b[39;49;00m\u001b[33mArn\u001b[39;49;00m\u001b[33m\"\u001b[39;49;00m]\u001b[37m\u001b[39;49;00m\n",
      "\u001b[37m\u001b[39;49;00m\n",
      "            response = iam.attach_role_policy(\u001b[37m\u001b[39;49;00m\n",
      "                RoleName=role_name, PolicyArn=\u001b[33m\"\u001b[39;49;00m\u001b[33marn:aws:iam::aws:policy/service-role/AWSLambdaBasicExecutionRole\u001b[39;49;00m\u001b[33m\"\u001b[39;49;00m\u001b[37m\u001b[39;49;00m\n",
      "            )\u001b[37m\u001b[39;49;00m\n",
      "\u001b[37m\u001b[39;49;00m\n",
      "            response = iam.attach_role_policy(\u001b[37m\u001b[39;49;00m\n",
      "                PolicyArn=\u001b[33m\"\u001b[39;49;00m\u001b[33marn:aws:iam::aws:policy/AmazonSageMakerFullAccess\u001b[39;49;00m\u001b[33m\"\u001b[39;49;00m, RoleName=role_name\u001b[37m\u001b[39;49;00m\n",
      "            )\u001b[37m\u001b[39;49;00m\n",
      "\u001b[37m\u001b[39;49;00m\n",
      "            \u001b[34mreturn\u001b[39;49;00m role_arn\u001b[37m\u001b[39;49;00m\n",
      "\u001b[37m\u001b[39;49;00m\n",
      "        \u001b[34mexcept\u001b[39;49;00m iam.exceptions.EntityAlreadyExistsException:\u001b[37m\u001b[39;49;00m\n",
      "            \u001b[36mprint\u001b[39;49;00m(\u001b[33mf\u001b[39;49;00m\u001b[33m\"\u001b[39;49;00m\u001b[33mUsing ARN from existing role: \u001b[39;49;00m\u001b[33m{\u001b[39;49;00mrole_name\u001b[33m}\u001b[39;49;00m\u001b[33m\"\u001b[39;49;00m)\u001b[37m\u001b[39;49;00m\n",
      "            response = iam.get_role(RoleName=role_name)\u001b[37m\u001b[39;49;00m\n",
      "            \u001b[34mreturn\u001b[39;49;00m response[\u001b[33m\"\u001b[39;49;00m\u001b[33mRole\u001b[39;49;00m\u001b[33m\"\u001b[39;49;00m][\u001b[33m\"\u001b[39;49;00m\u001b[33mArn\u001b[39;49;00m\u001b[33m\"\u001b[39;49;00m]\u001b[37m\u001b[39;49;00m\n"
     ]
    }
   ],
   "source": [
    "!pygmentize utils/deploy_step.py"
   ]
  },
  {
   "cell_type": "code",
   "execution_count": 15,
   "id": "d3f838d5",
   "metadata": {
    "id": "d3f838d5",
    "tags": []
   },
   "outputs": [
    {
     "name": "stdout",
     "output_type": "stream",
     "text": [
      "Using ARN from existing role: sagemaker-pipelines-model-deployment-role\n"
     ]
    }
   ],
   "source": [
    "# custom Helper Step for ModelDeployment\n",
    "from utils.deploy_step import ModelDeployment\n",
    "\n",
    "# we will use the iam role from the notebook session for the created endpoint\n",
    "# this role will be attached to our endpoint and need permissions, e.g. to download assets from s3\n",
    "sagemaker_endpoint_role=sagemaker.get_execution_role()\n",
    "model_n_ = \"lawcompany/LJP\"\n",
    "model_name = f\"{model_n_.split('/')[-1]}-{time.strftime('%Y-%m-%d-%H-%M-%S', time.localtime())}\"\n",
    "\n",
    "step_deployment = ModelDeployment(\n",
    "    model_name=model_name,\n",
    "    registered_model=step_register.steps[0],\n",
    "    endpoint_instance_type=\"ml.m5.xlarge\",\n",
    "    sagemaker_endpoint_role=sagemaker_endpoint_role,\n",
    "    autoscaling_policy=None,\n",
    ")"
   ]
  },
  {
   "cell_type": "markdown",
   "id": "ed2bb0b5",
   "metadata": {
    "id": "ed2bb0b5"
   },
   "source": [
    "### 1.7. Condition for deployment\n",
    "\n",
    "`ConditionStep`을 통해 모델 평가 결과를 검사합니다. 정확도가 일정 이상일 때(accuracy > 0.95) 모델 등록 및 배포 파이프라인을 진행합니다."
   ]
  },
  {
   "cell_type": "markdown",
   "id": "4a0a78f6",
   "metadata": {
    "id": "4a0a78f6"
   },
   "source": [
    "#### Condition Parameter"
   ]
  },
  {
   "cell_type": "code",
   "execution_count": 16,
   "id": "1052caf6",
   "metadata": {
    "id": "1052caf6",
    "tags": []
   },
   "outputs": [],
   "source": [
    "threshold_accuracy = ParameterFloat(name=\"ThresholdAccuracy\", default_value=0.95)"
   ]
  },
  {
   "cell_type": "markdown",
   "id": "7d30042d",
   "metadata": {
    "id": "7d30042d"
   },
   "source": [
    "#### Condition"
   ]
  },
  {
   "cell_type": "code",
   "execution_count": 17,
   "id": "a4411610",
   "metadata": {
    "id": "a4411610",
    "tags": []
   },
   "outputs": [],
   "source": [
    "cond_gte = ConditionGreaterThanOrEqualTo(\n",
    "    left=JsonGet(\n",
    "        step_name=step_eval.name,\n",
    "        property_file=evaluation_report,\n",
    "        json_path=\"eval_accuracy\",\n",
    "    ),\n",
    "    right=threshold_accuracy,\n",
    ")\n",
    "\n",
    "step_cond = ConditionStep(\n",
    "    name=\"CheckEvalAccuracy\",\n",
    "    conditions=[cond_gte],\n",
    "    if_steps=[step_register, step_deployment],\n",
    "    else_steps=[],\n",
    ")"
   ]
  },
  {
   "cell_type": "markdown",
   "id": "8a734ad7",
   "metadata": {
    "id": "8a734ad7"
   },
   "source": [
    "<br>\n",
    "\n",
    "## 2. Pipeline definition and execution\n",
    "\n",
    "---\n",
    "\n",
    "모든 스텝을 정의하였다면 파이프라인을 정의합니다. \n",
    "\n",
    "파이프라인 인스턴스는 이름(`name`), 파라메터(`parameters`), 및 스텝(`steps`)으로 구성됩니다. \n",
    "- 파이프라인 이름: (AWS 계정, 리전) 쌍 내에서 고유해야 합니다 \n",
    "- 파라메터: 스텝 정의에 사용했던 모든 파라메터들을 파이프라인에서 정의해야 합니다. \n",
    "- 스텝: 리스트 형태로 이전 스텝들을 정의합니다. 내부적으로 데이터 종속성을 사용하여 각 스텝 간의 관계를 DAG으로 정의하기 때문에 실행 순서대로 나열할 필요는 없습니다."
   ]
  },
  {
   "cell_type": "code",
   "execution_count": 18,
   "id": "443d6b52",
   "metadata": {
    "id": "443d6b52",
    "tags": []
   },
   "outputs": [],
   "source": [
    "pipeline = Pipeline(\n",
    "    name=f\"LJP-Pipeline\",\n",
    "    parameters=[\n",
    "        model_id,\n",
    "        tokenizer_id,        \n",
    "        dataset_name,\n",
    "        processing_instance_type,\n",
    "        processing_instance_count,\n",
    "        processing_script,\n",
    "        training_entry_point,\n",
    "        training_source_dir,\n",
    "        training_instance_type,\n",
    "        training_instance_count,\n",
    "        evaluation_script,\n",
    "        evaluation_instance_type,\n",
    "        evaluation_instance_count,\n",
    "        threshold_accuracy,\n",
    "        n_gpus,\n",
    "        epochs,\n",
    "        seed,\n",
    "        eval_batch_size,\n",
    "        train_batch_size,\n",
    "        learning_rate,\n",
    "    ],\n",
    "    steps=[step_process, step_train, step_eval, step_cond],\n",
    "    sagemaker_session=sagemaker_session,\n",
    ")"
   ]
  },
  {
   "cell_type": "markdown",
   "id": "c65baea5",
   "metadata": {
    "id": "c65baea5"
   },
   "source": [
    "#### Check the pipeline definition\n"
   ]
  },
  {
   "cell_type": "code",
   "execution_count": 19,
   "id": "4ce7e899",
   "metadata": {
    "id": "4ce7e899",
    "tags": []
   },
   "outputs": [
    {
     "name": "stderr",
     "output_type": "stream",
     "text": [
      "Popping out 'CertifyForMarketplace' from the pipeline definition since it will be overridden in pipeline execution time.\n"
     ]
    },
    {
     "data": {
      "text/plain": [
       "{'Version': '2020-12-01',\n",
       " 'Metadata': {},\n",
       " 'Parameters': [{'Name': 'ModelId',\n",
       "   'Type': 'String',\n",
       "   'DefaultValue': 'lawcompany/KLAID_LJP_base'},\n",
       "  {'Name': 'TokenizerId',\n",
       "   'Type': 'String',\n",
       "   'DefaultValue': 'lawcompany/KLAID_LJP_base'},\n",
       "  {'Name': 'DatasetName',\n",
       "   'Type': 'String',\n",
       "   'DefaultValue': 'lawcompany/KLAID'},\n",
       "  {'Name': 'ProcessingInstanceType',\n",
       "   'Type': 'String',\n",
       "   'DefaultValue': 'ml.m5.xlarge'},\n",
       "  {'Name': 'ProcessingInstanceCount', 'Type': 'Integer', 'DefaultValue': 1},\n",
       "  {'Name': 'ProcessingScript',\n",
       "   'Type': 'String',\n",
       "   'DefaultValue': './src/processing_sklearn.py'},\n",
       "  {'Name': 'TrainingEntryPoint', 'Type': 'String', 'DefaultValue': 'train.py'},\n",
       "  {'Name': 'TrainingSourceDir', 'Type': 'String', 'DefaultValue': './src'},\n",
       "  {'Name': 'TrainingInstanceType',\n",
       "   'Type': 'String',\n",
       "   'DefaultValue': 'ml.p3.8xlarge'},\n",
       "  {'Name': 'TrainingInstanceCount', 'Type': 'Integer', 'DefaultValue': 1},\n",
       "  {'Name': 'EvaluationScript',\n",
       "   'Type': 'String',\n",
       "   'DefaultValue': './src/evaluate.py'},\n",
       "  {'Name': 'EvaluationInstanceType',\n",
       "   'Type': 'String',\n",
       "   'DefaultValue': 'ml.m5.xlarge'},\n",
       "  {'Name': 'EvaluationInstanceCount', 'Type': 'Integer', 'DefaultValue': 1},\n",
       "  {'Name': 'ThresholdAccuracy', 'Type': 'Float', 'DefaultValue': 0.95},\n",
       "  {'Name': 'NumGPUs', 'Type': 'String', 'DefaultValue': '1'},\n",
       "  {'Name': 'Epochs', 'Type': 'String', 'DefaultValue': '1'},\n",
       "  {'Name': 'Seed', 'Type': 'String', 'DefaultValue': '42'},\n",
       "  {'Name': 'EvalBatchSize', 'Type': 'String', 'DefaultValue': '2'},\n",
       "  {'Name': 'TrainBatchSize', 'Type': 'String', 'DefaultValue': '1'},\n",
       "  {'Name': 'LearningRate', 'Type': 'String', 'DefaultValue': '5e-5'}],\n",
       " 'PipelineExperimentConfig': {'ExperimentName': {'Get': 'Execution.PipelineName'},\n",
       "  'TrialName': {'Get': 'Execution.PipelineExecutionId'}},\n",
       " 'Steps': [{'Name': 'ProcessDataForTraining',\n",
       "   'Type': 'Processing',\n",
       "   'Arguments': {'ProcessingResources': {'ClusterConfig': {'InstanceType': 'ml.m5.xlarge',\n",
       "      'InstanceCount': {'Get': 'Parameters.ProcessingInstanceCount'},\n",
       "      'VolumeSizeInGB': 30}},\n",
       "    'AppSpecification': {'ImageUri': '683313688378.dkr.ecr.us-east-1.amazonaws.com/sagemaker-scikit-learn:1.0-1-cpu-py3',\n",
       "     'ContainerArguments': ['--model_id',\n",
       "      'lawcompany/KLAID_LJP_base',\n",
       "      '--tokenizer_id',\n",
       "      'lawcompany/KLAID_LJP_base',\n",
       "      '--dataset_name',\n",
       "      'lawcompany/KLAID',\n",
       "      '--transformers_version',\n",
       "      '4.17.0',\n",
       "      '--pytorch_version',\n",
       "      '1.10.2'],\n",
       "     'ContainerEntrypoint': ['python3',\n",
       "      '/opt/ml/processing/input/code/processing_sklearn.py']},\n",
       "    'RoleArn': 'arn:aws:iam::353411055907:role/sagemaker-notebook-test1-SageMakerIamRole-3LWOV1Z5K6V0',\n",
       "    'ProcessingInputs': [{'InputName': 'code',\n",
       "      'AppManaged': False,\n",
       "      'S3Input': {'S3Uri': 's3://sagemaker-us-east-1-353411055907/ProcessDataForTraining-d42c0d0007dea42b690bd7279226cc05/input/code/processing_sklearn.py',\n",
       "       'LocalPath': '/opt/ml/processing/input/code',\n",
       "       'S3DataType': 'S3Prefix',\n",
       "       'S3InputMode': 'File',\n",
       "       'S3DataDistributionType': 'FullyReplicated',\n",
       "       'S3CompressionType': 'None'}}],\n",
       "    'ProcessingOutputConfig': {'Outputs': [{'OutputName': 'train',\n",
       "       'AppManaged': False,\n",
       "       'S3Output': {'S3Uri': 's3://sagemaker-us-east-1-353411055907/GP-LJP-mlops/data/train',\n",
       "        'LocalPath': '/opt/ml/processing/train',\n",
       "        'S3UploadMode': 'EndOfJob'}},\n",
       "      {'OutputName': 'validation',\n",
       "       'AppManaged': False,\n",
       "       'S3Output': {'S3Uri': 's3://sagemaker-us-east-1-353411055907/GP-LJP-mlops/data/test',\n",
       "        'LocalPath': '/opt/ml/processing/validation',\n",
       "        'S3UploadMode': 'EndOfJob'}},\n",
       "      {'OutputName': 'test',\n",
       "       'AppManaged': False,\n",
       "       'S3Output': {'S3Uri': 's3://sagemaker-us-east-1-353411055907/GP-LJP-mlops/data/test',\n",
       "        'LocalPath': '/opt/ml/processing/test',\n",
       "        'S3UploadMode': 'EndOfJob'}}]}}},\n",
       "  {'Name': 'TrainModel',\n",
       "   'Type': 'Training',\n",
       "   'Arguments': {'AlgorithmSpecification': {'TrainingInputMode': 'File',\n",
       "     'TrainingImage': '763104351884.dkr.ecr.us-east-1.amazonaws.com/huggingface-pytorch-training:1.10.2-transformers4.17.0-gpu-py38-cu113-ubuntu20.04',\n",
       "     'EnableSageMakerMetricsTimeSeries': True},\n",
       "    'OutputDataConfig': {'S3OutputPath': 's3://sagemaker-us-east-1-353411055907/'},\n",
       "    'StoppingCondition': {'MaxRuntimeInSeconds': 86400},\n",
       "    'ResourceConfig': {'VolumeSizeInGB': 30,\n",
       "     'InstanceCount': {'Get': 'Parameters.TrainingInstanceCount'},\n",
       "     'InstanceType': 'ml.p3.8xlarge'},\n",
       "    'RoleArn': 'arn:aws:iam::353411055907:role/sagemaker-notebook-test1-SageMakerIamRole-3LWOV1Z5K6V0',\n",
       "    'InputDataConfig': [{'DataSource': {'S3DataSource': {'S3DataType': 'S3Prefix',\n",
       "        'S3Uri': {'Get': \"Steps.ProcessDataForTraining.ProcessingOutputConfig.Outputs['train'].S3Output.S3Uri\"},\n",
       "        'S3DataDistributionType': 'FullyReplicated'}},\n",
       "      'ChannelName': 'train'},\n",
       "     {'DataSource': {'S3DataSource': {'S3DataType': 'S3Prefix',\n",
       "        'S3Uri': {'Get': \"Steps.ProcessDataForTraining.ProcessingOutputConfig.Outputs['test'].S3Output.S3Uri\"},\n",
       "        'S3DataDistributionType': 'FullyReplicated'}},\n",
       "      'ChannelName': 'test'}],\n",
       "    'HyperParameters': {'n_gpus': {'Get': 'Parameters.NumGPUs'},\n",
       "     'epochs': {'Get': 'Parameters.Epochs'},\n",
       "     'seed': {'Get': 'Parameters.Seed'},\n",
       "     'train_batch_size': {'Get': 'Parameters.TrainBatchSize'},\n",
       "     'eval_batch_size': {'Get': 'Parameters.EvalBatchSize'},\n",
       "     'warmup_steps': '0',\n",
       "     'learning_rate': {'Get': 'Parameters.LearningRate'},\n",
       "     'tokenizer_id': {'Get': 'Parameters.ModelId'},\n",
       "     'model_id': {'Get': 'Parameters.TokenizerId'},\n",
       "     'sagemaker_submit_directory': '\"s3://sagemaker-us-east-1-353411055907/TrainModel-557ed60df79e8eee0a7051c39d9dfcca/source/sourcedir.tar.gz\"',\n",
       "     'sagemaker_program': '\"train.py\"',\n",
       "     'sagemaker_container_log_level': '20',\n",
       "     'sagemaker_region': '\"us-east-1\"'},\n",
       "    'CheckpointConfig': {'S3Uri': 's3://sagemaker-us-east-1-353411055907/GP-LJP-mlops/processing/checkpoints',\n",
       "     'LocalPath': '/opt/ml/checkpoints'},\n",
       "    'ProfilerConfig': {'DisableProfiler': True}},\n",
       "   'CacheConfig': {'Enabled': True, 'ExpireAfter': '7d'}},\n",
       "  {'Name': 'EvalLoss',\n",
       "   'Type': 'Processing',\n",
       "   'Arguments': {'ProcessingResources': {'ClusterConfig': {'InstanceType': 'ml.m5.xlarge',\n",
       "      'InstanceCount': {'Get': 'Parameters.EvaluationInstanceCount'},\n",
       "      'VolumeSizeInGB': 30}},\n",
       "    'AppSpecification': {'ImageUri': '683313688378.dkr.ecr.us-east-1.amazonaws.com/sagemaker-scikit-learn:1.0-1-cpu-py3',\n",
       "     'ContainerEntrypoint': ['python3',\n",
       "      '/opt/ml/processing/input/code/evaluate.py']},\n",
       "    'RoleArn': 'arn:aws:iam::353411055907:role/sagemaker-notebook-test1-SageMakerIamRole-3LWOV1Z5K6V0',\n",
       "    'ProcessingInputs': [{'InputName': 'input-1',\n",
       "      'AppManaged': False,\n",
       "      'S3Input': {'S3Uri': {'Get': 'Steps.TrainModel.ModelArtifacts.S3ModelArtifacts'},\n",
       "       'LocalPath': '/opt/ml/processing/model',\n",
       "       'S3DataType': 'S3Prefix',\n",
       "       'S3InputMode': 'File',\n",
       "       'S3DataDistributionType': 'FullyReplicated',\n",
       "       'S3CompressionType': 'None'}},\n",
       "     {'InputName': 'code',\n",
       "      'AppManaged': False,\n",
       "      'S3Input': {'S3Uri': 's3://sagemaker-us-east-1-353411055907/EvalLoss-fe4cbb9e83a85e0c1bca3690214ab835/input/code/evaluate.py',\n",
       "       'LocalPath': '/opt/ml/processing/input/code',\n",
       "       'S3DataType': 'S3Prefix',\n",
       "       'S3InputMode': 'File',\n",
       "       'S3DataDistributionType': 'FullyReplicated',\n",
       "       'S3CompressionType': 'None'}}],\n",
       "    'ProcessingOutputConfig': {'Outputs': [{'OutputName': 'evaluation',\n",
       "       'AppManaged': False,\n",
       "       'S3Output': {'S3Uri': 's3://sagemaker-us-east-1-353411055907/GP-LJP-mlops/evaluation_report',\n",
       "        'LocalPath': '/opt/ml/processing/evaluation',\n",
       "        'S3UploadMode': 'EndOfJob'}}]}},\n",
       "   'CacheConfig': {'Enabled': True, 'ExpireAfter': '7d'},\n",
       "   'PropertyFiles': [{'PropertyFileName': 'EvaluationReport',\n",
       "     'OutputName': 'evaluation',\n",
       "     'FilePath': 'evaluation.json'}]},\n",
       "  {'Name': 'CheckEvalAccuracy',\n",
       "   'Type': 'Condition',\n",
       "   'Arguments': {'Conditions': [{'Type': 'GreaterThanOrEqualTo',\n",
       "      'LeftValue': {'Std:JsonGet': {'PropertyFile': {'Get': 'Steps.EvalLoss.PropertyFiles.EvaluationReport'},\n",
       "        'Path': 'eval_accuracy'}},\n",
       "      'RightValue': {'Get': 'Parameters.ThresholdAccuracy'}}],\n",
       "    'IfSteps': [{'Name': 'RegisterModel-RegisterModel',\n",
       "      'Type': 'RegisterModel',\n",
       "      'Arguments': {'ModelPackageGroupName': 'LJPModelPackageGroup',\n",
       "       'InferenceSpecification': {'Containers': [{'Image': '763104351884.dkr.ecr.us-east-1.amazonaws.com/huggingface-pytorch-inference:1.10.2-transformers4.17.0-cpu-py38-ubuntu20.04',\n",
       "          'Environment': {'SAGEMAKER_PROGRAM': '',\n",
       "           'SAGEMAKER_SUBMIT_DIRECTORY': '',\n",
       "           'SAGEMAKER_CONTAINER_LOG_LEVEL': '20',\n",
       "           'SAGEMAKER_REGION': 'us-east-1'},\n",
       "          'ModelDataUrl': {'Get': 'Steps.TrainModel.ModelArtifacts.S3ModelArtifacts'}}],\n",
       "        'SupportedContentTypes': ['application/json'],\n",
       "        'SupportedResponseMIMETypes': ['application/json'],\n",
       "        'SupportedRealtimeInferenceInstanceTypes': ['ml.m5.xlarge',\n",
       "         'ml.g4dn.xlarge'],\n",
       "        'SupportedTransformInstanceTypes': ['ml.m5.xlarge', 'ml.g4dn.xlarge']},\n",
       "       'ModelApprovalStatus': 'Approved'}},\n",
       "     {'Name': 'ModelDeployment',\n",
       "      'Type': 'Lambda',\n",
       "      'Arguments': {'model_name': 'LJP-2023-05-22-15-14-3405-22-15-14-34',\n",
       "       'endpoint_config_name': 'LJP-2023-05-22-15-14-3405-22-15-14-34',\n",
       "       'endpoint_name': 'LJP-2023-05-22-15-14-34',\n",
       "       'endpoint_instance_type': 'ml.m5.xlarge',\n",
       "       'model_package_arn': {'Get': 'Steps.RegisterModel-RegisterModel.ModelPackageArn'},\n",
       "       'role': 'arn:aws:iam::353411055907:role/sagemaker-notebook-test1-SageMakerIamRole-3LWOV1Z5K6V0'},\n",
       "      'FunctionArn': 'arn:aws:lambda:us-east-1:353411055907:function:sagemaker-pipelines-model-deployment-05-22-15-14-34',\n",
       "      'OutputParameters': [{'OutputName': 'statusCode',\n",
       "        'OutputType': 'String'},\n",
       "       {'OutputName': 'body', 'OutputType': 'String'},\n",
       "       {'OutputName': 'other_key', 'OutputType': 'String'}]}],\n",
       "    'ElseSteps': []}}]}"
      ]
     },
     "execution_count": 19,
     "metadata": {},
     "output_type": "execute_result"
    }
   ],
   "source": [
    "import json\n",
    "\n",
    "definition = json.loads(pipeline.definition())\n",
    "definition"
   ]
  },
  {
   "cell_type": "code",
   "execution_count": 20,
   "id": "b928bbcb",
   "metadata": {
    "id": "b928bbcb",
    "tags": []
   },
   "outputs": [
    {
     "name": "stderr",
     "output_type": "stream",
     "text": [
      "Popping out 'CertifyForMarketplace' from the pipeline definition since it will be overridden in pipeline execution time.\n",
      "Popping out 'CertifyForMarketplace' from the pipeline definition since it will be overridden in pipeline execution time.\n"
     ]
    },
    {
     "data": {
      "text/plain": [
       "{'PipelineArn': 'arn:aws:sagemaker:us-east-1:353411055907:pipeline/ljp-pipeline',\n",
       " 'ResponseMetadata': {'RequestId': '6f67df4e-05f9-4107-bcf1-989e192df0d0',\n",
       "  'HTTPStatusCode': 200,\n",
       "  'HTTPHeaders': {'x-amzn-requestid': '6f67df4e-05f9-4107-bcf1-989e192df0d0',\n",
       "   'content-type': 'application/x-amz-json-1.1',\n",
       "   'content-length': '80',\n",
       "   'date': 'Mon, 22 May 2023 15:14:38 GMT'},\n",
       "  'RetryAttempts': 0}}"
      ]
     },
     "execution_count": 20,
     "metadata": {},
     "output_type": "execute_result"
    }
   ],
   "source": [
    "pipeline.upsert(role_arn=role)"
   ]
  },
  {
   "cell_type": "markdown",
   "id": "3c7c3357",
   "metadata": {
    "id": "3c7c3357"
   },
   "source": [
    "### Run the pipeline\n",
    "\n",
    "파이프라인을 실행합니다."
   ]
  },
  {
   "cell_type": "code",
   "execution_count": 21,
   "id": "2265a690",
   "metadata": {
    "id": "2265a690",
    "tags": []
   },
   "outputs": [],
   "source": [
    "execution = pipeline.start()"
   ]
  },
  {
   "cell_type": "code",
   "execution_count": 22,
   "id": "86a497cc",
   "metadata": {
    "id": "86a497cc",
    "tags": []
   },
   "outputs": [
    {
     "data": {
      "text/plain": [
       "{'PipelineArn': 'arn:aws:sagemaker:us-east-1:353411055907:pipeline/ljp-pipeline',\n",
       " 'PipelineExecutionArn': 'arn:aws:sagemaker:us-east-1:353411055907:pipeline/ljp-pipeline/execution/jvirkerbvbjv',\n",
       " 'PipelineExecutionDisplayName': 'execution-1684768479440',\n",
       " 'PipelineExecutionStatus': 'Executing',\n",
       " 'CreationTime': datetime.datetime(2023, 5, 22, 15, 14, 39, 293000, tzinfo=tzlocal()),\n",
       " 'LastModifiedTime': datetime.datetime(2023, 5, 22, 15, 14, 39, 293000, tzinfo=tzlocal()),\n",
       " 'CreatedBy': {},\n",
       " 'LastModifiedBy': {},\n",
       " 'ResponseMetadata': {'RequestId': '3f58821d-9801-4d55-9ad8-242070d887c7',\n",
       "  'HTTPStatusCode': 200,\n",
       "  'HTTPHeaders': {'x-amzn-requestid': '3f58821d-9801-4d55-9ad8-242070d887c7',\n",
       "   'content-type': 'application/x-amz-json-1.1',\n",
       "   'content-length': '389',\n",
       "   'date': 'Mon, 22 May 2023 15:14:39 GMT'},\n",
       "  'RetryAttempts': 0}}"
      ]
     },
     "execution_count": 22,
     "metadata": {},
     "output_type": "execute_result"
    }
   ],
   "source": [
    "execution.describe()"
   ]
  },
  {
   "cell_type": "code",
   "execution_count": 23,
   "id": "815c45d8",
   "metadata": {
    "id": "815c45d8",
    "tags": []
   },
   "outputs": [],
   "source": [
    "execution.wait()"
   ]
  },
  {
   "cell_type": "markdown",
   "id": "61d1db77",
   "metadata": {
    "id": "61d1db77"
   },
   "source": [
    "실행된 스텝들을 리스트업합니다."
   ]
  },
  {
   "cell_type": "code",
   "execution_count": 24,
   "id": "421ab6aa",
   "metadata": {
    "id": "421ab6aa",
    "tags": []
   },
   "outputs": [
    {
     "data": {
      "text/plain": [
       "[{'StepName': 'ModelDeployment',\n",
       "  'StartTime': datetime.datetime(2023, 5, 22, 15, 32, 43, 657000, tzinfo=tzlocal()),\n",
       "  'EndTime': datetime.datetime(2023, 5, 22, 15, 32, 47, 503000, tzinfo=tzlocal()),\n",
       "  'StepStatus': 'Succeeded',\n",
       "  'AttemptCount': 0,\n",
       "  'Metadata': {'Lambda': {'Arn': 'arn:aws:lambda:us-east-1:353411055907:function:sagemaker-pipelines-model-deployment-05-22-15-14-34',\n",
       "    'OutputParameters': [{'Name': 'other_key', 'Value': 'example_value'},\n",
       "     {'Name': 'body', 'Value': '\"Created Endpoint!\"'},\n",
       "     {'Name': 'statusCode', 'Value': '200.0'}]}}},\n",
       " {'StepName': 'RegisterModel-RegisterModel',\n",
       "  'StartTime': datetime.datetime(2023, 5, 22, 15, 32, 42, 145000, tzinfo=tzlocal()),\n",
       "  'EndTime': datetime.datetime(2023, 5, 22, 15, 32, 43, 79000, tzinfo=tzlocal()),\n",
       "  'StepStatus': 'Succeeded',\n",
       "  'AttemptCount': 0,\n",
       "  'Metadata': {'RegisterModel': {'Arn': 'arn:aws:sagemaker:us-east-1:353411055907:model-package/ljpmodelpackagegroup/2'}}},\n",
       " {'StepName': 'CheckEvalAccuracy',\n",
       "  'StartTime': datetime.datetime(2023, 5, 22, 15, 32, 40, 120000, tzinfo=tzlocal()),\n",
       "  'EndTime': datetime.datetime(2023, 5, 22, 15, 32, 40, 800000, tzinfo=tzlocal()),\n",
       "  'StepStatus': 'Succeeded',\n",
       "  'AttemptCount': 0,\n",
       "  'Metadata': {'Condition': {'Outcome': 'True'}}},\n",
       " {'StepName': 'EvalLoss',\n",
       "  'StartTime': datetime.datetime(2023, 5, 22, 15, 28, 3, 72000, tzinfo=tzlocal()),\n",
       "  'EndTime': datetime.datetime(2023, 5, 22, 15, 32, 39, 387000, tzinfo=tzlocal()),\n",
       "  'StepStatus': 'Succeeded',\n",
       "  'AttemptCount': 0,\n",
       "  'Metadata': {'ProcessingJob': {'Arn': 'arn:aws:sagemaker:us-east-1:353411055907:processing-job/pipelines-jvirkerbvbjv-EvalLoss-oALh5Sl0z3'}}},\n",
       " {'StepName': 'TrainModel',\n",
       "  'StartTime': datetime.datetime(2023, 5, 22, 15, 20, 2, 154000, tzinfo=tzlocal()),\n",
       "  'EndTime': datetime.datetime(2023, 5, 22, 15, 27, 33, 560000, tzinfo=tzlocal()),\n",
       "  'StepStatus': 'Succeeded',\n",
       "  'AttemptCount': 0,\n",
       "  'Metadata': {'TrainingJob': {'Arn': 'arn:aws:sagemaker:us-east-1:353411055907:training-job/pipelines-jvirkerbvbjv-TrainModel-XuxojH4Q9C'}}},\n",
       " {'StepName': 'ProcessDataForTraining',\n",
       "  'StartTime': datetime.datetime(2023, 5, 22, 15, 14, 40, 433000, tzinfo=tzlocal()),\n",
       "  'EndTime': datetime.datetime(2023, 5, 22, 15, 20, 1, 694000, tzinfo=tzlocal()),\n",
       "  'StepStatus': 'Succeeded',\n",
       "  'AttemptCount': 0,\n",
       "  'Metadata': {'ProcessingJob': {'Arn': 'arn:aws:sagemaker:us-east-1:353411055907:processing-job/pipelines-jvirkerbvbjv-ProcessDataForTraini-w54sErUQsK'}}}]"
      ]
     },
     "execution_count": 24,
     "metadata": {},
     "output_type": "execute_result"
    }
   ],
   "source": [
    "execution.list_steps()"
   ]
  },
  {
   "cell_type": "markdown",
   "id": "6f35313d",
   "metadata": {
    "id": "6f35313d"
   },
   "source": [
    "<br>\n",
    "\n",
    "## 3. Getting predictions from the endpoint\n",
    "---\n",
    "\n",
    "파이프라인의 모든 단계가 정상적으로 실행되었다면 배포된 엔드포인트를 통해 실시간 추론을 수행할 수 있습니다."
   ]
  },
  {
   "cell_type": "code",
   "execution_count": 27,
   "id": "7674b919",
   "metadata": {
    "id": "7674b919"
   },
   "outputs": [
    {
     "name": "stdout",
     "output_type": "stream",
     "text": [
      "https://console.aws.amazon.com/sagemaker/home?region=us-east-1#/endpoints/LJP-2023-05-22-15-14-34\n"
     ]
    }
   ],
   "source": [
    "from sagemaker.huggingface import HuggingFacePredictor\n",
    "endpoint_name = model_name\n",
    "\n",
    "# check if endpoint is up and running\n",
    "print(f\"https://console.aws.amazon.com/sagemaker/home?region={region}#/endpoints/{endpoint_name}\")\n",
    "hf_predictor = HuggingFacePredictor(endpoint_name,sagemaker_session=sagemaker_session)"
   ]
  },
  {
   "cell_type": "code",
   "execution_count": 28,
   "id": "2eeb64c5",
   "metadata": {
    "id": "2eeb64c5"
   },
   "outputs": [
    {
     "data": {
      "text/plain": [
       "[{'label': '도로교통법 제148조의2 제2항,도로교통법 제44조 제2항', 'score': 0.9968319535255432}]"
      ]
     },
     "execution_count": 28,
     "metadata": {},
     "output_type": "execute_result"
    }
   ],
   "source": [
    "# example request, you always need to define \"inputs\"\n",
    "data = {\n",
    "   \"inputs\": [\n",
    "       \"피고인은 2018. 8. 9. 23:33경 술을 마신 상태로 경산시 사동에 있는 상호 불상의 식당에서부터 같은 동에 있는 부영5차 앞 삼거리까지 B 스타렉스 승용차를 운전한 다음 승용차 안에서 잠을 자던 중, 차량 운전자가 시동을 걸어 놓고 잠을 자고 있다는 112 신고를 받고 현장에 출동한 경산경찰서 C파출소 소속 경위 D으로부터 피고인의 입에서 술 냄새가 나고 보행이 비틀거리는 등 술에 취한 상태에서 운전하였다고 인정할 만한 상당한 이유가 있어 약 10분 동안 총 3회에 걸쳐 음주측정기에 입김을 불어 넣는 방법으로 음주측정에 응할 것을 요구받고도 정당한 사유 없이 이에 응하지 아니하였다.\"\n",
    "\n",
    "   ]\n",
    "}\n",
    "hf_predictor.predict(data)"
   ]
  },
  {
   "cell_type": "code",
   "execution_count": 29,
   "id": "de19c28c",
   "metadata": {},
   "outputs": [
    {
     "data": {
      "text/plain": [
       "[{'label': '형법 제260조 제1항', 'score': 0.9990469813346863}]"
      ]
     },
     "execution_count": 29,
     "metadata": {},
     "output_type": "execute_result"
    }
   ],
   "source": [
    "# example request, you always need to define \"inputs\"\n",
    "data = {\n",
    "   \"inputs\": [\n",
    "\n",
    "       \"피고인 A은 노동일에 종사 중이다. 피고인은 2017. 2. 2. 20:00경 부산 해운대구 B, C식당 앞 노상에서 술을 마시고 D의 포터차량을 타려다가 주변에 있던 E 일행이 음주운전을 하려 한다고 말을 건 일로 서로 시비가 되었다. 피고인은 피해자 E과 시비를 벌이다. 피해자를 밀치고, 인근 주차장에서 들고 온 약 1.5m 길이의 쇠막대기로 E의 머리와 어깨 부위를 4~5회 가량 내리쳐 피해자를 폭행하였다.\"\n",
    "\n",
    "   ]\n",
    "}\n",
    "hf_predictor.predict(data)"
   ]
  },
  {
   "cell_type": "markdown",
   "id": "46d8821d",
   "metadata": {
    "id": "46d8821d"
   },
   "source": [
    "<br>\n",
    "\n",
    "## Clean up\n",
    "---\n",
    "\n",
    "과금을 방지하기 위해 사용하지 않는 리소스를 삭제합니다. 아래 코드셀은 Lambda 함수와 엔드포인트를 삭제합니다. "
   ]
  },
  {
   "cell_type": "code",
   "execution_count": null,
   "id": "491afc1c",
   "metadata": {
    "id": "491afc1c",
    "tags": []
   },
   "outputs": [],
   "source": [
    "#sm_client = boto3.client(\"sagemaker\")\n",
    "\n",
    "# Delete the Lambda function\n",
    "#step_deployment.func.delete()\n",
    "\n",
    "# Delete the endpoint\n",
    "#hf_predictor.delete_endpoint()"
   ]
  },
  {
   "cell_type": "code",
   "execution_count": null,
   "id": "a1a61362-4369-4226-9268-0515ae18a766",
   "metadata": {},
   "outputs": [],
   "source": []
  }
 ],
 "metadata": {
  "colab": {
   "provenance": []
  },
  "kernelspec": {
   "display_name": "conda_amazonei_pytorch_latest_p37",
   "language": "python",
   "name": "conda_amazonei_pytorch_latest_p37"
  },
  "language_info": {
   "codemirror_mode": {
    "name": "ipython",
    "version": 3
   },
   "file_extension": ".py",
   "mimetype": "text/x-python",
   "name": "python",
   "nbconvert_exporter": "python",
   "pygments_lexer": "ipython3",
   "version": "3.7.10"
  }
 },
 "nbformat": 4,
 "nbformat_minor": 5
}
